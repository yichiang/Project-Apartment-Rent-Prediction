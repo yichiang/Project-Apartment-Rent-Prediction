{
 "cells": [
  {
   "cell_type": "code",
   "execution_count": 180,
   "metadata": {},
   "outputs": [],
   "source": [
    "# Python 2 & 3 Compatibility\n",
    "from __future__ import print_function, division\n",
    "\n",
    "# Necessary imports\n",
    "import pandas as pd\n",
    "import numpy as np\n",
    "import statsmodels.api as sm\n",
    "import statsmodels.formula.api as smf\n",
    "import patsy\n",
    "\n",
    "import seaborn as sns\n",
    "import matplotlib.pyplot as plt\n",
    "from sklearn.linear_model import LinearRegression\n",
    "from sklearn.linear_model import RidgeCV\n",
    "import os\n",
    "import pickle\n",
    "%matplotlib inline\n",
    "from datetime import datetime\n",
    "from dateutil.parser import parse"
   ]
  },
  {
   "cell_type": "code",
   "execution_count": 181,
   "metadata": {},
   "outputs": [
    {
     "data": {
      "text/html": [
       "<div>\n",
       "<style scoped>\n",
       "    .dataframe tbody tr th:only-of-type {\n",
       "        vertical-align: middle;\n",
       "    }\n",
       "\n",
       "    .dataframe tbody tr th {\n",
       "        vertical-align: top;\n",
       "    }\n",
       "\n",
       "    .dataframe thead th {\n",
       "        text-align: right;\n",
       "    }\n",
       "</style>\n",
       "<table border=\"1\" class=\"dataframe\">\n",
       "  <thead>\n",
       "    <tr style=\"text-align: right;\">\n",
       "      <th></th>\n",
       "      <th>BedSize</th>\n",
       "      <th>Year</th>\n",
       "      <th>Month</th>\n",
       "      <th>Apartment_rent</th>\n",
       "      <th>Shift_Year</th>\n",
       "      <th>Shift_Month</th>\n",
       "      <th>Zillow_Housing_price</th>\n",
       "      <th>Search_Count_SeattleRent</th>\n",
       "      <th>Search_Count_SeattleHousing</th>\n",
       "      <th>Search_Count_seattleApartment</th>\n",
       "      <th>...</th>\n",
       "      <th>NewListingsYoy</th>\n",
       "      <th>NumberofRecords</th>\n",
       "      <th>PriceDrops</th>\n",
       "      <th>PriceDropsMom</th>\n",
       "      <th>PriceDropsYoy</th>\n",
       "      <th>SoldAboveList</th>\n",
       "      <th>SoldAboveListMom</th>\n",
       "      <th>SoldAboveListYoy</th>\n",
       "      <th>Date</th>\n",
       "      <th>target_Apartment_rent</th>\n",
       "    </tr>\n",
       "  </thead>\n",
       "  <tbody>\n",
       "    <tr>\n",
       "      <th>4</th>\n",
       "      <td>Studio</td>\n",
       "      <td>2011</td>\n",
       "      <td>7</td>\n",
       "      <td>1000.0</td>\n",
       "      <td>2011</td>\n",
       "      <td>07</td>\n",
       "      <td>365300.0</td>\n",
       "      <td>36</td>\n",
       "      <td>25</td>\n",
       "      <td>22</td>\n",
       "      <td>...</td>\n",
       "      <td>-16.2</td>\n",
       "      <td>1.0</td>\n",
       "      <td>0.286394</td>\n",
       "      <td>0.082724</td>\n",
       "      <td>-0.006008</td>\n",
       "      <td>0.162996</td>\n",
       "      <td>-0.008754</td>\n",
       "      <td>0.059369</td>\n",
       "      <td>2011-07-01</td>\n",
       "      <td>1000.0</td>\n",
       "    </tr>\n",
       "    <tr>\n",
       "      <th>5</th>\n",
       "      <td>Studio</td>\n",
       "      <td>2011</td>\n",
       "      <td>8</td>\n",
       "      <td>1000.0</td>\n",
       "      <td>2011</td>\n",
       "      <td>08</td>\n",
       "      <td>367900.0</td>\n",
       "      <td>36</td>\n",
       "      <td>24</td>\n",
       "      <td>22</td>\n",
       "      <td>...</td>\n",
       "      <td>-11.2</td>\n",
       "      <td>1.0</td>\n",
       "      <td>0.289133</td>\n",
       "      <td>0.002739</td>\n",
       "      <td>0.019233</td>\n",
       "      <td>0.167315</td>\n",
       "      <td>0.004320</td>\n",
       "      <td>0.038875</td>\n",
       "      <td>2011-08-01</td>\n",
       "      <td>1000.0</td>\n",
       "    </tr>\n",
       "    <tr>\n",
       "      <th>6</th>\n",
       "      <td>Studio</td>\n",
       "      <td>2011</td>\n",
       "      <td>9</td>\n",
       "      <td>1075.0</td>\n",
       "      <td>2011</td>\n",
       "      <td>09</td>\n",
       "      <td>381900.0</td>\n",
       "      <td>38</td>\n",
       "      <td>28</td>\n",
       "      <td>22</td>\n",
       "      <td>...</td>\n",
       "      <td>-6.4</td>\n",
       "      <td>1.0</td>\n",
       "      <td>0.282218</td>\n",
       "      <td>-0.006915</td>\n",
       "      <td>-0.040034</td>\n",
       "      <td>0.255848</td>\n",
       "      <td>0.088533</td>\n",
       "      <td>0.130313</td>\n",
       "      <td>2011-09-01</td>\n",
       "      <td>1075.0</td>\n",
       "    </tr>\n",
       "    <tr>\n",
       "      <th>7</th>\n",
       "      <td>Studio</td>\n",
       "      <td>2011</td>\n",
       "      <td>10</td>\n",
       "      <td>995.0</td>\n",
       "      <td>2011</td>\n",
       "      <td>10</td>\n",
       "      <td>393600.0</td>\n",
       "      <td>38</td>\n",
       "      <td>29</td>\n",
       "      <td>28</td>\n",
       "      <td>...</td>\n",
       "      <td>-8.1</td>\n",
       "      <td>1.0</td>\n",
       "      <td>0.262083</td>\n",
       "      <td>-0.020135</td>\n",
       "      <td>-0.028809</td>\n",
       "      <td>0.270305</td>\n",
       "      <td>0.014457</td>\n",
       "      <td>0.104366</td>\n",
       "      <td>2011-10-01</td>\n",
       "      <td>995.0</td>\n",
       "    </tr>\n",
       "    <tr>\n",
       "      <th>8</th>\n",
       "      <td>Studio</td>\n",
       "      <td>2011</td>\n",
       "      <td>11</td>\n",
       "      <td>865.0</td>\n",
       "      <td>2011</td>\n",
       "      <td>11</td>\n",
       "      <td>400700.0</td>\n",
       "      <td>46</td>\n",
       "      <td>26</td>\n",
       "      <td>25</td>\n",
       "      <td>...</td>\n",
       "      <td>4.8</td>\n",
       "      <td>1.0</td>\n",
       "      <td>0.259186</td>\n",
       "      <td>-0.002897</td>\n",
       "      <td>-0.039458</td>\n",
       "      <td>0.292494</td>\n",
       "      <td>0.022190</td>\n",
       "      <td>0.136814</td>\n",
       "      <td>2011-11-01</td>\n",
       "      <td>865.0</td>\n",
       "    </tr>\n",
       "  </tbody>\n",
       "</table>\n",
       "<p>5 rows × 49 columns</p>\n",
       "</div>"
      ],
      "text/plain": [
       "  BedSize  Year  Month  Apartment_rent Shift_Year Shift_Month  \\\n",
       "4  Studio  2011      7          1000.0       2011          07   \n",
       "5  Studio  2011      8          1000.0       2011          08   \n",
       "6  Studio  2011      9          1075.0       2011          09   \n",
       "7  Studio  2011     10           995.0       2011          10   \n",
       "8  Studio  2011     11           865.0       2011          11   \n",
       "\n",
       "   Zillow_Housing_price  Search_Count_SeattleRent  \\\n",
       "4              365300.0                        36   \n",
       "5              367900.0                        36   \n",
       "6              381900.0                        38   \n",
       "7              393600.0                        38   \n",
       "8              400700.0                        46   \n",
       "\n",
       "   Search_Count_SeattleHousing  Search_Count_seattleApartment  \\\n",
       "4                           25                             22   \n",
       "5                           24                             22   \n",
       "6                           28                             22   \n",
       "7                           29                             28   \n",
       "8                           26                             25   \n",
       "\n",
       "           ...            NewListingsYoy  NumberofRecords  PriceDrops  \\\n",
       "4          ...                     -16.2              1.0    0.286394   \n",
       "5          ...                     -11.2              1.0    0.289133   \n",
       "6          ...                      -6.4              1.0    0.282218   \n",
       "7          ...                      -8.1              1.0    0.262083   \n",
       "8          ...                       4.8              1.0    0.259186   \n",
       "\n",
       "   PriceDropsMom  PriceDropsYoy  SoldAboveList  SoldAboveListMom  \\\n",
       "4       0.082724      -0.006008       0.162996         -0.008754   \n",
       "5       0.002739       0.019233       0.167315          0.004320   \n",
       "6      -0.006915      -0.040034       0.255848          0.088533   \n",
       "7      -0.020135      -0.028809       0.270305          0.014457   \n",
       "8      -0.002897      -0.039458       0.292494          0.022190   \n",
       "\n",
       "   SoldAboveListYoy       Date  target_Apartment_rent  \n",
       "4          0.059369 2011-07-01                 1000.0  \n",
       "5          0.038875 2011-08-01                 1000.0  \n",
       "6          0.130313 2011-09-01                 1075.0  \n",
       "7          0.104366 2011-10-01                  995.0  \n",
       "8          0.136814 2011-11-01                  865.0  \n",
       "\n",
       "[5 rows x 49 columns]"
      ]
     },
     "execution_count": 181,
     "metadata": {},
     "output_type": "execute_result"
    }
   ],
   "source": [
    "with open(\"all_clean_data.pkl\", 'rb') as picklefile: \n",
    "    merge_housing = pickle.load(picklefile)\n",
    "merge_housing.head()"
   ]
  },
  {
   "cell_type": "code",
   "execution_count": 182,
   "metadata": {},
   "outputs": [],
   "source": [
    "studio_df = merge_housing.loc[merge_housing['BedSize'] == 'Studio']\n",
    "oneBed_df = merge_housing.loc[merge_housing['BedSize'] == '1Bedroom']\n",
    "twoBed_df = merge_housing.loc[merge_housing['BedSize'] == '2Bedroom']"
   ]
  },
  {
   "cell_type": "code",
   "execution_count": 183,
   "metadata": {},
   "outputs": [],
   "source": [
    "# Build model for Studio"
   ]
  },
  {
   "cell_type": "code",
   "execution_count": 184,
   "metadata": {},
   "outputs": [
    {
     "data": {
      "text/html": [
       "<div>\n",
       "<style scoped>\n",
       "    .dataframe tbody tr th:only-of-type {\n",
       "        vertical-align: middle;\n",
       "    }\n",
       "\n",
       "    .dataframe tbody tr th {\n",
       "        vertical-align: top;\n",
       "    }\n",
       "\n",
       "    .dataframe thead th {\n",
       "        text-align: right;\n",
       "    }\n",
       "</style>\n",
       "<table border=\"1\" class=\"dataframe\">\n",
       "  <thead>\n",
       "    <tr style=\"text-align: right;\">\n",
       "      <th></th>\n",
       "      <th>BedSize</th>\n",
       "      <th>Year</th>\n",
       "      <th>Month</th>\n",
       "      <th>Apartment_rent</th>\n",
       "      <th>Shift_Year</th>\n",
       "      <th>Shift_Month</th>\n",
       "      <th>Zillow_Housing_price</th>\n",
       "      <th>Search_Count_SeattleRent</th>\n",
       "      <th>Search_Count_SeattleHousing</th>\n",
       "      <th>Search_Count_seattleApartment</th>\n",
       "      <th>...</th>\n",
       "      <th>NewListingsMom</th>\n",
       "      <th>NewListingsYoy</th>\n",
       "      <th>NumberofRecords</th>\n",
       "      <th>PriceDrops</th>\n",
       "      <th>PriceDropsMom</th>\n",
       "      <th>PriceDropsYoy</th>\n",
       "      <th>SoldAboveList</th>\n",
       "      <th>SoldAboveListMom</th>\n",
       "      <th>SoldAboveListYoy</th>\n",
       "      <th>target_Apartment_rent</th>\n",
       "    </tr>\n",
       "    <tr>\n",
       "      <th>Date</th>\n",
       "      <th></th>\n",
       "      <th></th>\n",
       "      <th></th>\n",
       "      <th></th>\n",
       "      <th></th>\n",
       "      <th></th>\n",
       "      <th></th>\n",
       "      <th></th>\n",
       "      <th></th>\n",
       "      <th></th>\n",
       "      <th></th>\n",
       "      <th></th>\n",
       "      <th></th>\n",
       "      <th></th>\n",
       "      <th></th>\n",
       "      <th></th>\n",
       "      <th></th>\n",
       "      <th></th>\n",
       "      <th></th>\n",
       "      <th></th>\n",
       "      <th></th>\n",
       "    </tr>\n",
       "  </thead>\n",
       "  <tbody>\n",
       "    <tr>\n",
       "      <th>2011-07-01</th>\n",
       "      <td>Studio</td>\n",
       "      <td>2011</td>\n",
       "      <td>7</td>\n",
       "      <td>1000.0</td>\n",
       "      <td>2011</td>\n",
       "      <td>07</td>\n",
       "      <td>365300.0</td>\n",
       "      <td>36</td>\n",
       "      <td>25</td>\n",
       "      <td>22</td>\n",
       "      <td>...</td>\n",
       "      <td>67.5</td>\n",
       "      <td>-16.2</td>\n",
       "      <td>1.0</td>\n",
       "      <td>0.286394</td>\n",
       "      <td>0.082724</td>\n",
       "      <td>-0.006008</td>\n",
       "      <td>0.162996</td>\n",
       "      <td>-0.008754</td>\n",
       "      <td>0.059369</td>\n",
       "      <td>1000.0</td>\n",
       "    </tr>\n",
       "    <tr>\n",
       "      <th>2011-08-01</th>\n",
       "      <td>Studio</td>\n",
       "      <td>2011</td>\n",
       "      <td>8</td>\n",
       "      <td>1000.0</td>\n",
       "      <td>2011</td>\n",
       "      <td>08</td>\n",
       "      <td>367900.0</td>\n",
       "      <td>36</td>\n",
       "      <td>24</td>\n",
       "      <td>22</td>\n",
       "      <td>...</td>\n",
       "      <td>20.3</td>\n",
       "      <td>-11.2</td>\n",
       "      <td>1.0</td>\n",
       "      <td>0.289133</td>\n",
       "      <td>0.002739</td>\n",
       "      <td>0.019233</td>\n",
       "      <td>0.167315</td>\n",
       "      <td>0.004320</td>\n",
       "      <td>0.038875</td>\n",
       "      <td>1000.0</td>\n",
       "    </tr>\n",
       "    <tr>\n",
       "      <th>2011-09-01</th>\n",
       "      <td>Studio</td>\n",
       "      <td>2011</td>\n",
       "      <td>9</td>\n",
       "      <td>1075.0</td>\n",
       "      <td>2011</td>\n",
       "      <td>09</td>\n",
       "      <td>381900.0</td>\n",
       "      <td>38</td>\n",
       "      <td>28</td>\n",
       "      <td>22</td>\n",
       "      <td>...</td>\n",
       "      <td>28.6</td>\n",
       "      <td>-6.4</td>\n",
       "      <td>1.0</td>\n",
       "      <td>0.282218</td>\n",
       "      <td>-0.006915</td>\n",
       "      <td>-0.040034</td>\n",
       "      <td>0.255848</td>\n",
       "      <td>0.088533</td>\n",
       "      <td>0.130313</td>\n",
       "      <td>1075.0</td>\n",
       "    </tr>\n",
       "    <tr>\n",
       "      <th>2011-10-01</th>\n",
       "      <td>Studio</td>\n",
       "      <td>2011</td>\n",
       "      <td>10</td>\n",
       "      <td>995.0</td>\n",
       "      <td>2011</td>\n",
       "      <td>10</td>\n",
       "      <td>393600.0</td>\n",
       "      <td>38</td>\n",
       "      <td>29</td>\n",
       "      <td>28</td>\n",
       "      <td>...</td>\n",
       "      <td>3.7</td>\n",
       "      <td>-8.1</td>\n",
       "      <td>1.0</td>\n",
       "      <td>0.262083</td>\n",
       "      <td>-0.020135</td>\n",
       "      <td>-0.028809</td>\n",
       "      <td>0.270305</td>\n",
       "      <td>0.014457</td>\n",
       "      <td>0.104366</td>\n",
       "      <td>995.0</td>\n",
       "    </tr>\n",
       "    <tr>\n",
       "      <th>2011-11-01</th>\n",
       "      <td>Studio</td>\n",
       "      <td>2011</td>\n",
       "      <td>11</td>\n",
       "      <td>865.0</td>\n",
       "      <td>2011</td>\n",
       "      <td>11</td>\n",
       "      <td>400700.0</td>\n",
       "      <td>46</td>\n",
       "      <td>26</td>\n",
       "      <td>25</td>\n",
       "      <td>...</td>\n",
       "      <td>3.9</td>\n",
       "      <td>4.8</td>\n",
       "      <td>1.0</td>\n",
       "      <td>0.259186</td>\n",
       "      <td>-0.002897</td>\n",
       "      <td>-0.039458</td>\n",
       "      <td>0.292494</td>\n",
       "      <td>0.022190</td>\n",
       "      <td>0.136814</td>\n",
       "      <td>865.0</td>\n",
       "    </tr>\n",
       "  </tbody>\n",
       "</table>\n",
       "<p>5 rows × 48 columns</p>\n",
       "</div>"
      ],
      "text/plain": [
       "           BedSize  Year  Month  Apartment_rent Shift_Year Shift_Month  \\\n",
       "Date                                                                     \n",
       "2011-07-01  Studio  2011      7          1000.0       2011          07   \n",
       "2011-08-01  Studio  2011      8          1000.0       2011          08   \n",
       "2011-09-01  Studio  2011      9          1075.0       2011          09   \n",
       "2011-10-01  Studio  2011     10           995.0       2011          10   \n",
       "2011-11-01  Studio  2011     11           865.0       2011          11   \n",
       "\n",
       "            Zillow_Housing_price  Search_Count_SeattleRent  \\\n",
       "Date                                                         \n",
       "2011-07-01              365300.0                        36   \n",
       "2011-08-01              367900.0                        36   \n",
       "2011-09-01              381900.0                        38   \n",
       "2011-10-01              393600.0                        38   \n",
       "2011-11-01              400700.0                        46   \n",
       "\n",
       "            Search_Count_SeattleHousing  Search_Count_seattleApartment  \\\n",
       "Date                                                                     \n",
       "2011-07-01                           25                             22   \n",
       "2011-08-01                           24                             22   \n",
       "2011-09-01                           28                             22   \n",
       "2011-10-01                           29                             28   \n",
       "2011-11-01                           26                             25   \n",
       "\n",
       "                    ...            NewListingsMom  NewListingsYoy  \\\n",
       "Date                ...                                             \n",
       "2011-07-01          ...                      67.5           -16.2   \n",
       "2011-08-01          ...                      20.3           -11.2   \n",
       "2011-09-01          ...                      28.6            -6.4   \n",
       "2011-10-01          ...                       3.7            -8.1   \n",
       "2011-11-01          ...                       3.9             4.8   \n",
       "\n",
       "            NumberofRecords  PriceDrops  PriceDropsMom  PriceDropsYoy  \\\n",
       "Date                                                                    \n",
       "2011-07-01              1.0    0.286394       0.082724      -0.006008   \n",
       "2011-08-01              1.0    0.289133       0.002739       0.019233   \n",
       "2011-09-01              1.0    0.282218      -0.006915      -0.040034   \n",
       "2011-10-01              1.0    0.262083      -0.020135      -0.028809   \n",
       "2011-11-01              1.0    0.259186      -0.002897      -0.039458   \n",
       "\n",
       "            SoldAboveList  SoldAboveListMom  SoldAboveListYoy  \\\n",
       "Date                                                            \n",
       "2011-07-01       0.162996         -0.008754          0.059369   \n",
       "2011-08-01       0.167315          0.004320          0.038875   \n",
       "2011-09-01       0.255848          0.088533          0.130313   \n",
       "2011-10-01       0.270305          0.014457          0.104366   \n",
       "2011-11-01       0.292494          0.022190          0.136814   \n",
       "\n",
       "            target_Apartment_rent  \n",
       "Date                               \n",
       "2011-07-01                 1000.0  \n",
       "2011-08-01                 1000.0  \n",
       "2011-09-01                 1075.0  \n",
       "2011-10-01                  995.0  \n",
       "2011-11-01                  865.0  \n",
       "\n",
       "[5 rows x 48 columns]"
      ]
     },
     "execution_count": 184,
     "metadata": {},
     "output_type": "execute_result"
    }
   ],
   "source": [
    "studio_df = studio_df.dropna().set_index('Date')\n",
    "studio_df.head()\n"
   ]
  },
  {
   "cell_type": "code",
   "execution_count": 185,
   "metadata": {},
   "outputs": [
    {
     "data": {
      "text/plain": [
       "2016    12\n",
       "2015    12\n",
       "2014    12\n",
       "2013    12\n",
       "2012    12\n",
       "2017     8\n",
       "2011     6\n",
       "Name: Year, dtype: int64"
      ]
     },
     "execution_count": 185,
     "metadata": {},
     "output_type": "execute_result"
    }
   ],
   "source": [
    "studio_df['Year'].value_counts()"
   ]
  },
  {
   "cell_type": "code",
   "execution_count": 186,
   "metadata": {},
   "outputs": [],
   "source": [
    "# Linear Regression"
   ]
  },
  {
   "cell_type": "code",
   "execution_count": 187,
   "metadata": {},
   "outputs": [],
   "source": [
    "X = studio_df.loc[:,['Year', 'Month', 'Zillow_Housing_price'                    \n",
    "                                         , 'SoldAboveListYoy'\n",
    "                                         , 'PriceDropsMom'\n",
    "                                         , 'Inventory']]\n",
    "\n",
    "y = studio_df.iloc[:,-1:]\n",
    "X['Intercept'] = [1.0]*X.shape[0]    #include the intercept"
   ]
  },
  {
   "cell_type": "code",
   "execution_count": 188,
   "metadata": {},
   "outputs": [
    {
     "data": {
      "text/plain": [
       "((51, 7), (51, 1), (23, 1))"
      ]
     },
     "execution_count": 188,
     "metadata": {},
     "output_type": "execute_result"
    }
   ],
   "source": [
    "#from sklearn.cross_validation import train_test_split\n",
    "from sklearn.model_selection import train_test_split\n",
    "X_train, X_test, y_train, y_test = train_test_split(X, y, test_size=0.3, shuffle=False)\n",
    "X_train.shape, y_train.shape, y_test.shape"
   ]
  },
  {
   "cell_type": "code",
   "execution_count": 189,
   "metadata": {},
   "outputs": [
    {
     "data": {
      "text/html": [
       "<div>\n",
       "<style scoped>\n",
       "    .dataframe tbody tr th:only-of-type {\n",
       "        vertical-align: middle;\n",
       "    }\n",
       "\n",
       "    .dataframe tbody tr th {\n",
       "        vertical-align: top;\n",
       "    }\n",
       "\n",
       "    .dataframe thead th {\n",
       "        text-align: right;\n",
       "    }\n",
       "</style>\n",
       "<table border=\"1\" class=\"dataframe\">\n",
       "  <thead>\n",
       "    <tr style=\"text-align: right;\">\n",
       "      <th></th>\n",
       "      <th>target_Apartment_rent</th>\n",
       "    </tr>\n",
       "    <tr>\n",
       "      <th>Date</th>\n",
       "      <th></th>\n",
       "    </tr>\n",
       "  </thead>\n",
       "  <tbody>\n",
       "    <tr>\n",
       "      <th>2017-04-01</th>\n",
       "      <td>1495.0</td>\n",
       "    </tr>\n",
       "    <tr>\n",
       "      <th>2017-05-01</th>\n",
       "      <td>1512.0</td>\n",
       "    </tr>\n",
       "    <tr>\n",
       "      <th>2017-06-01</th>\n",
       "      <td>1590.0</td>\n",
       "    </tr>\n",
       "    <tr>\n",
       "      <th>2017-07-01</th>\n",
       "      <td>1580.0</td>\n",
       "    </tr>\n",
       "    <tr>\n",
       "      <th>2017-08-01</th>\n",
       "      <td>1555.0</td>\n",
       "    </tr>\n",
       "  </tbody>\n",
       "</table>\n",
       "</div>"
      ],
      "text/plain": [
       "            target_Apartment_rent\n",
       "Date                             \n",
       "2017-04-01                 1495.0\n",
       "2017-05-01                 1512.0\n",
       "2017-06-01                 1590.0\n",
       "2017-07-01                 1580.0\n",
       "2017-08-01                 1555.0"
      ]
     },
     "execution_count": 189,
     "metadata": {},
     "output_type": "execute_result"
    }
   ],
   "source": [
    "y_test.tail()"
   ]
  },
  {
   "cell_type": "code",
   "execution_count": null,
   "metadata": {},
   "outputs": [],
   "source": []
  },
  {
   "cell_type": "code",
   "execution_count": null,
   "metadata": {},
   "outputs": [],
   "source": []
  },
  {
   "cell_type": "code",
   "execution_count": 190,
   "metadata": {},
   "outputs": [
    {
     "name": "stderr",
     "output_type": "stream",
     "text": [
      "/Library/Frameworks/Python.framework/Versions/3.6/lib/python3.6/site-packages/sklearn/linear_model/coordinate_descent.py:1094: DataConversionWarning: A column-vector y was passed when a 1d array was expected. Please change the shape of y to (n_samples, ), for example using ravel().\n",
      "  y = column_or_1d(y, warn=True)\n",
      "/Library/Frameworks/Python.framework/Versions/3.6/lib/python3.6/site-packages/sklearn/linear_model/coordinate_descent.py:491: ConvergenceWarning: Objective did not converge. You might want to increase the number of iterations. Fitting data with very small alpha may cause precision problems.\n",
      "  ConvergenceWarning)\n",
      "/Library/Frameworks/Python.framework/Versions/3.6/lib/python3.6/site-packages/sklearn/linear_model/coordinate_descent.py:1094: DataConversionWarning: A column-vector y was passed when a 1d array was expected. Please change the shape of y to (n_samples, ), for example using ravel().\n",
      "  y = column_or_1d(y, warn=True)\n",
      "/Library/Frameworks/Python.framework/Versions/3.6/lib/python3.6/site-packages/sklearn/linear_model/coordinate_descent.py:491: ConvergenceWarning: Objective did not converge. You might want to increase the number of iterations. Fitting data with very small alpha may cause precision problems.\n",
      "  ConvergenceWarning)\n",
      "/Library/Frameworks/Python.framework/Versions/3.6/lib/python3.6/site-packages/sklearn/linear_model/coordinate_descent.py:1094: DataConversionWarning: A column-vector y was passed when a 1d array was expected. Please change the shape of y to (n_samples, ), for example using ravel().\n",
      "  y = column_or_1d(y, warn=True)\n",
      "/Library/Frameworks/Python.framework/Versions/3.6/lib/python3.6/site-packages/sklearn/linear_model/coordinate_descent.py:1094: DataConversionWarning: A column-vector y was passed when a 1d array was expected. Please change the shape of y to (n_samples, ), for example using ravel().\n",
      "  y = column_or_1d(y, warn=True)\n",
      "/Library/Frameworks/Python.framework/Versions/3.6/lib/python3.6/site-packages/sklearn/linear_model/coordinate_descent.py:1094: DataConversionWarning: A column-vector y was passed when a 1d array was expected. Please change the shape of y to (n_samples, ), for example using ravel().\n",
      "  y = column_or_1d(y, warn=True)\n",
      "/Library/Frameworks/Python.framework/Versions/3.6/lib/python3.6/site-packages/sklearn/linear_model/coordinate_descent.py:1094: DataConversionWarning: A column-vector y was passed when a 1d array was expected. Please change the shape of y to (n_samples, ), for example using ravel().\n",
      "  y = column_or_1d(y, warn=True)\n",
      "/Library/Frameworks/Python.framework/Versions/3.6/lib/python3.6/site-packages/sklearn/linear_model/coordinate_descent.py:1094: DataConversionWarning: A column-vector y was passed when a 1d array was expected. Please change the shape of y to (n_samples, ), for example using ravel().\n",
      "  y = column_or_1d(y, warn=True)\n",
      "/Library/Frameworks/Python.framework/Versions/3.6/lib/python3.6/site-packages/sklearn/linear_model/coordinate_descent.py:1094: DataConversionWarning: A column-vector y was passed when a 1d array was expected. Please change the shape of y to (n_samples, ), for example using ravel().\n",
      "  y = column_or_1d(y, warn=True)\n",
      "/Library/Frameworks/Python.framework/Versions/3.6/lib/python3.6/site-packages/sklearn/linear_model/coordinate_descent.py:1094: DataConversionWarning: A column-vector y was passed when a 1d array was expected. Please change the shape of y to (n_samples, ), for example using ravel().\n",
      "  y = column_or_1d(y, warn=True)\n",
      "/Library/Frameworks/Python.framework/Versions/3.6/lib/python3.6/site-packages/sklearn/linear_model/coordinate_descent.py:1094: DataConversionWarning: A column-vector y was passed when a 1d array was expected. Please change the shape of y to (n_samples, ), for example using ravel().\n",
      "  y = column_or_1d(y, warn=True)\n"
     ]
    },
    {
     "data": {
      "text/html": [
       "<div>\n",
       "<style scoped>\n",
       "    .dataframe tbody tr th:only-of-type {\n",
       "        vertical-align: middle;\n",
       "    }\n",
       "\n",
       "    .dataframe tbody tr th {\n",
       "        vertical-align: top;\n",
       "    }\n",
       "\n",
       "    .dataframe thead th {\n",
       "        text-align: right;\n",
       "    }\n",
       "</style>\n",
       "<table border=\"1\" class=\"dataframe\">\n",
       "  <thead>\n",
       "    <tr style=\"text-align: right;\">\n",
       "      <th></th>\n",
       "      <th>alpha</th>\n",
       "      <th>rsquared</th>\n",
       "      <th>log_alpha</th>\n",
       "    </tr>\n",
       "  </thead>\n",
       "  <tbody>\n",
       "    <tr>\n",
       "      <th>0</th>\n",
       "      <td>1.000000e-09</td>\n",
       "      <td>-1.169793</td>\n",
       "      <td>-20.723266</td>\n",
       "    </tr>\n",
       "    <tr>\n",
       "      <th>1</th>\n",
       "      <td>1.000000e-08</td>\n",
       "      <td>-1.169793</td>\n",
       "      <td>-18.420681</td>\n",
       "    </tr>\n",
       "    <tr>\n",
       "      <th>2</th>\n",
       "      <td>1.000000e-07</td>\n",
       "      <td>-1.169794</td>\n",
       "      <td>-16.118096</td>\n",
       "    </tr>\n",
       "    <tr>\n",
       "      <th>3</th>\n",
       "      <td>1.000000e-06</td>\n",
       "      <td>-1.169804</td>\n",
       "      <td>-13.815511</td>\n",
       "    </tr>\n",
       "    <tr>\n",
       "      <th>4</th>\n",
       "      <td>1.000000e-05</td>\n",
       "      <td>-1.169899</td>\n",
       "      <td>-11.512925</td>\n",
       "    </tr>\n",
       "    <tr>\n",
       "      <th>5</th>\n",
       "      <td>1.000000e-04</td>\n",
       "      <td>-1.170853</td>\n",
       "      <td>-9.210340</td>\n",
       "    </tr>\n",
       "    <tr>\n",
       "      <th>6</th>\n",
       "      <td>1.000000e-03</td>\n",
       "      <td>-1.180411</td>\n",
       "      <td>-6.907755</td>\n",
       "    </tr>\n",
       "    <tr>\n",
       "      <th>7</th>\n",
       "      <td>1.000000e-02</td>\n",
       "      <td>-1.277975</td>\n",
       "      <td>-4.605170</td>\n",
       "    </tr>\n",
       "    <tr>\n",
       "      <th>8</th>\n",
       "      <td>1.000000e-01</td>\n",
       "      <td>-1.466802</td>\n",
       "      <td>-2.302585</td>\n",
       "    </tr>\n",
       "    <tr>\n",
       "      <th>9</th>\n",
       "      <td>1.000000e+00</td>\n",
       "      <td>-2.539592</td>\n",
       "      <td>0.000000</td>\n",
       "    </tr>\n",
       "  </tbody>\n",
       "</table>\n",
       "</div>"
      ],
      "text/plain": [
       "          alpha  rsquared  log_alpha\n",
       "0  1.000000e-09 -1.169793 -20.723266\n",
       "1  1.000000e-08 -1.169793 -18.420681\n",
       "2  1.000000e-07 -1.169794 -16.118096\n",
       "3  1.000000e-06 -1.169804 -13.815511\n",
       "4  1.000000e-05 -1.169899 -11.512925\n",
       "5  1.000000e-04 -1.170853  -9.210340\n",
       "6  1.000000e-03 -1.180411  -6.907755\n",
       "7  1.000000e-02 -1.277975  -4.605170\n",
       "8  1.000000e-01 -1.466802  -2.302585\n",
       "9  1.000000e+00 -2.539592   0.000000"
      ]
     },
     "execution_count": 190,
     "metadata": {},
     "output_type": "execute_result"
    }
   ],
   "source": [
    "from sklearn.linear_model import LassoCV\n",
    "data_pd=pd.DataFrame(columns=['alpha', 'rsquared', 'log_alpha'])\n",
    "listy = [1e-9,1e-8,1e-7,1e-6,1e-5, 1e-4, 1e-3, 1e-2, 1e-1,1]\n",
    "for num in listy:\n",
    "    lcv = LassoCV(alphas = [num], cv=5, random_state = 40)\n",
    "    lcv.fit(X_train, y_train)\n",
    "    #Returns the coefficient of determination R^2 of the prediction.\n",
    "    data_pd = data_pd.append({'alpha': num, 'rsquared':lcv.score(X_test,y_test), 'log_alpha': np.log(num)},ignore_index=True)\n",
    "data_pd"
   ]
  },
  {
   "cell_type": "code",
   "execution_count": 191,
   "metadata": {},
   "outputs": [
    {
     "data": {
      "text/plain": [
       "<matplotlib.axes._subplots.AxesSubplot at 0x10edf1978>"
      ]
     },
     "execution_count": 191,
     "metadata": {},
     "output_type": "execute_result"
    },
    {
     "data": {
      "image/png": "[encoded data removed]",
      "text/plain": [
       "<matplotlib.figure.Figure at 0x10edf1f60>"
      ]
     },
     "metadata": {},
     "output_type": "display_data"
    }
   ],
   "source": [
    "data_pd.plot(kind='scatter', x='alpha', y='rsquared')"
   ]
  },
  {
   "cell_type": "code",
   "execution_count": 192,
   "metadata": {},
   "outputs": [
    {
     "data": {
      "text/plain": [
       "array([1400. , 1396. , 1428. , 1450. , 1425.5, 1495. , 1443. , 1495. ,\n",
       "       1425. , 1430.5, 1450. , 1500. , 1400. , 1446.5, 1450. , 1495. ,\n",
       "       1466. , 1495. , 1495. , 1512. , 1590. , 1580. , 1555. ])"
      ]
     },
     "execution_count": 192,
     "metadata": {},
     "output_type": "execute_result"
    }
   ],
   "source": [
    "fixed_y_test = y_test['target_Apartment_rent']\n",
    "fixed_y_test_value = fixed_y_test.values\n",
    "fixed_y_test_value"
   ]
  },
  {
   "cell_type": "code",
   "execution_count": null,
   "metadata": {},
   "outputs": [],
   "source": []
  },
  {
   "cell_type": "code",
   "execution_count": 193,
   "metadata": {},
   "outputs": [
    {
     "name": "stderr",
     "output_type": "stream",
     "text": [
      "/Library/Frameworks/Python.framework/Versions/3.6/lib/python3.6/site-packages/sklearn/linear_model/coordinate_descent.py:1094: DataConversionWarning: A column-vector y was passed when a 1d array was expected. Please change the shape of y to (n_samples, ), for example using ravel().\n",
      "  y = column_or_1d(y, warn=True)\n"
     ]
    },
    {
     "data": {
      "text/plain": [
       "(array([1448.16907348, 1473.03519068, 1471.98672659, 1437.69665737,\n",
       "        1458.49875675, 1454.85425441, 1486.27136935, 1502.31971011,\n",
       "        1512.92418909, 1545.55900224, 1555.47237131, 1555.62301087,\n",
       "        1560.81347773, 1578.56390216, 1584.51382028, 1547.53163711,\n",
       "        1569.2919666 , 1557.5308634 , 1583.11140536, 1612.78041054,\n",
       "        1612.64237865, 1632.69806524, 1651.33338291]),\n",
       "             target_Apartment_rent\n",
       " Date                             \n",
       " 2015-10-01                 1400.0\n",
       " 2015-11-01                 1396.0\n",
       " 2015-12-01                 1428.0\n",
       " 2016-01-01                 1450.0\n",
       " 2016-02-01                 1425.5\n",
       " 2016-03-01                 1495.0\n",
       " 2016-04-01                 1443.0\n",
       " 2016-05-01                 1495.0\n",
       " 2016-06-01                 1425.0\n",
       " 2016-07-01                 1430.5\n",
       " 2016-08-01                 1450.0\n",
       " 2016-09-01                 1500.0\n",
       " 2016-10-01                 1400.0\n",
       " 2016-11-01                 1446.5\n",
       " 2016-12-01                 1450.0\n",
       " 2017-01-01                 1495.0\n",
       " 2017-02-01                 1466.0\n",
       " 2017-03-01                 1495.0\n",
       " 2017-04-01                 1495.0\n",
       " 2017-05-01                 1512.0\n",
       " 2017-06-01                 1590.0\n",
       " 2017-07-01                 1580.0\n",
       " 2017-08-01                 1555.0)"
      ]
     },
     "execution_count": 193,
     "metadata": {},
     "output_type": "execute_result"
    }
   ],
   "source": [
    "listy = [1e-9,1e-8,1e-7,1e-6,1e-5, 1e-4, 1e-3, 1e-2, 1e-1,1]\n",
    "LassoCVModel = LassoCV(alphas = listy, cv=5, random_state = 40)\n",
    "LassoCVModel.fit(X_train, y_train)\n",
    "y_predict = LassoCVModel.predict(X_test)\n",
    "y_predict, y_test"
   ]
  },
  {
   "cell_type": "code",
   "execution_count": 194,
   "metadata": {},
   "outputs": [
    {
     "data": {
      "text/plain": [
       "-1.4668020668328383"
      ]
     },
     "execution_count": 194,
     "metadata": {},
     "output_type": "execute_result"
    }
   ],
   "source": [
    "LassoCVModel.score(X_test, y_test)"
   ]
  },
  {
   "cell_type": "code",
   "execution_count": 161,
   "metadata": {},
   "outputs": [],
   "source": [
    "# results = LassoCVModel\n",
    "# r2_adj = 1 - ((sum((fixed_y_test_value-y_predict)**2.0)/(len(X_test) - len(results.score(X_test, y_test)) - 1))\n",
    "#                 /(sum((fixed_y_test_value - np.mean(fixed_y_test_value))**2.0)/(len(X_test) - 1)))    \n",
    "# #compute the adjusted r2 in the test set\n",
    "# r2_adj"
   ]
  },
  {
   "cell_type": "code",
   "execution_count": 220,
   "metadata": {},
   "outputs": [
    {
     "name": "stderr",
     "output_type": "stream",
     "text": [
      "/Library/Frameworks/Python.framework/Versions/3.6/lib/python3.6/site-packages/ipykernel_launcher.py:2: SettingWithCopyWarning: \n",
      "A value is trying to be set on a copy of a slice from a DataFrame.\n",
      "Try using .loc[row_indexer,col_indexer] = value instead\n",
      "\n",
      "See the caveats in the documentation: http://pandas.pydata.org/pandas-docs/stable/indexing.html#indexing-view-versus-copy\n",
      "  \n"
     ]
    }
   ],
   "source": [
    "y_predict_series = y_test\n",
    "y_predict_series['Predict_rent']=y_predict\n"
   ]
  },
  {
   "cell_type": "code",
   "execution_count": 222,
   "metadata": {},
   "outputs": [
    {
     "data": {
      "image/png": "[encoded data removed]",
      "text/plain": [
       "<matplotlib.figure.Figure at 0x10e8753c8>"
      ]
     },
     "metadata": {},
     "output_type": "display_data"
    }
   ],
   "source": [
    "known = y_train['target_Apartment_rent'].append(y_predict_series['target_Apartment_rent'][0:1])\n",
    "unknown = y_predict_series['target_Apartment_rent']\n",
    "to_predict = y_predict_series['Predict_rent']\n",
    "\n",
    "fig, ax = plt.subplots();\n",
    "fig.set_size_inches(18.5, 10.5)\n",
    "known.plot(ax=ax, c='c', marker='o', zorder=3);\n",
    "unknown.plot(ax=ax, c='grey', alpha=0.5);\n",
    "to_predict.plot(ax=ax, c='r', marker='o', markersize=16,\n",
    "                linestyle='');\n",
    "\n",
    "ax.legend(['known', 'future', 'predict value']);\n",
    "ax.set_ylabel('Rent');"
   ]
  },
  {
   "cell_type": "code",
   "execution_count": null,
   "metadata": {},
   "outputs": [],
   "source": []
  },
  {
   "cell_type": "markdown",
   "metadata": {},
   "source": [
    "# PolynomialFeatures"
   ]
  },
  {
   "cell_type": "markdown",
   "metadata": {},
   "source": []
  },
  {
   "cell_type": "code",
   "execution_count": 107,
   "metadata": {},
   "outputs": [
    {
     "data": {
      "text/plain": [
       "Index(['Year', 'Month', 'Zillow_Housing_price', 'SoldAboveListYoy',\n",
       "       'PriceDropsMom', 'Inventory'],\n",
       "      dtype='object')"
      ]
     },
     "execution_count": 107,
     "metadata": {},
     "output_type": "execute_result"
    }
   ],
   "source": [
    "from sklearn.preprocessing import PolynomialFeatures\n",
    "#x_df_test = studio_df_droplowCorr.iloc[:,:-1]\n",
    "x_df_test = studio_df.loc[:,['Year', 'Month', 'Zillow_Housing_price'                    \n",
    "                                         , 'SoldAboveListYoy'\n",
    "                                         , 'PriceDropsMom'\n",
    "                                         , 'Inventory']]\n",
    "\n",
    "y_df_test = studio_df.iloc[:,-1:]\n",
    "x_df_test.columns\n"
   ]
  },
  {
   "cell_type": "code",
   "execution_count": 108,
   "metadata": {},
   "outputs": [
    {
     "data": {
      "text/plain": [
       "(74, 7)"
      ]
     },
     "execution_count": 108,
     "metadata": {},
     "output_type": "execute_result"
    }
   ],
   "source": [
    "\n",
    "x_df_test = x_df_test.dropna()\n",
    "#y, X = patsy.dmatrices('Dep_Variable ~   ' + ' + '.join(X.columns), data=df, return_type=\"dataframe\")\n",
    "poly = PolynomialFeatures(1)\n",
    "x_poly = poly.fit_transform(x_df_test)\n",
    "X_transfer = pd.DataFrame(x_poly)\n",
    "X_transfer.columns = poly.get_feature_names()\n",
    "#len(X_transfer)\n",
    "X_transfer.shape\n"
   ]
  },
  {
   "cell_type": "code",
   "execution_count": 109,
   "metadata": {},
   "outputs": [
    {
     "data": {
      "text/plain": [
       "((23, 1), (23, 1))"
      ]
     },
     "execution_count": 109,
     "metadata": {},
     "output_type": "execute_result"
    }
   ],
   "source": [
    "#from sklearn.cross_validation import train_test_split\n",
    "from sklearn.model_selection import train_test_split\n",
    "X_train, X_test, y_train, y_test = train_test_split(x_df_test, y, test_size=0.3, shuffle=False)\n",
    "y_test.shape, y_test.shape"
   ]
  },
  {
   "cell_type": "code",
   "execution_count": 110,
   "metadata": {},
   "outputs": [
    {
     "data": {
      "text/html": [
       "<table class=\"simpletable\">\n",
       "<caption>OLS Regression Results</caption>\n",
       "<tr>\n",
       "  <th>Dep. Variable:</th>    <td>target_Apartment_rent</td> <th>  R-squared:         </th> <td>   0.998</td>\n",
       "</tr>\n",
       "<tr>\n",
       "  <th>Model:</th>                     <td>OLS</td>          <th>  Adj. R-squared:    </th> <td>   0.998</td>\n",
       "</tr>\n",
       "<tr>\n",
       "  <th>Method:</th>               <td>Least Squares</td>     <th>  F-statistic:       </th> <td>   4028.</td>\n",
       "</tr>\n",
       "<tr>\n",
       "  <th>Date:</th>               <td>Wed, 25 Apr 2018</td>    <th>  Prob (F-statistic):</th> <td>1.03e-59</td>\n",
       "</tr>\n",
       "<tr>\n",
       "  <th>Time:</th>                   <td>15:46:20</td>        <th>  Log-Likelihood:    </th> <td> -273.94</td>\n",
       "</tr>\n",
       "<tr>\n",
       "  <th>No. Observations:</th>        <td>    51</td>         <th>  AIC:               </th> <td>   559.9</td>\n",
       "</tr>\n",
       "<tr>\n",
       "  <th>Df Residuals:</th>            <td>    45</td>         <th>  BIC:               </th> <td>   571.5</td>\n",
       "</tr>\n",
       "<tr>\n",
       "  <th>Df Model:</th>                <td>     6</td>         <th>                     </th>     <td> </td>   \n",
       "</tr>\n",
       "<tr>\n",
       "  <th>Covariance Type:</th>        <td>nonrobust</td>       <th>                     </th>     <td> </td>   \n",
       "</tr>\n",
       "</table>\n",
       "<table class=\"simpletable\">\n",
       "<tr>\n",
       "            <td></td>              <th>coef</th>     <th>std err</th>      <th>t</th>      <th>P>|t|</th>  <th>[0.025</th>    <th>0.975]</th>  \n",
       "</tr>\n",
       "<tr>\n",
       "  <th>Year</th>                 <td>    0.0363</td> <td>    0.107</td> <td>    0.339</td> <td> 0.736</td> <td>   -0.179</td> <td>    0.252</td>\n",
       "</tr>\n",
       "<tr>\n",
       "  <th>Month</th>                <td>    2.2344</td> <td>    2.525</td> <td>    0.885</td> <td> 0.381</td> <td>   -2.850</td> <td>    7.319</td>\n",
       "</tr>\n",
       "<tr>\n",
       "  <th>Zillow_Housing_price</th> <td>    0.0029</td> <td>    0.000</td> <td>    7.787</td> <td> 0.000</td> <td>    0.002</td> <td>    0.004</td>\n",
       "</tr>\n",
       "<tr>\n",
       "  <th>SoldAboveListYoy</th>     <td> -415.4613</td> <td>  131.668</td> <td>   -3.155</td> <td> 0.003</td> <td> -680.653</td> <td> -150.269</td>\n",
       "</tr>\n",
       "<tr>\n",
       "  <th>PriceDropsMom</th>        <td>  296.0786</td> <td>  187.754</td> <td>    1.577</td> <td> 0.122</td> <td>  -82.078</td> <td>  674.235</td>\n",
       "</tr>\n",
       "<tr>\n",
       "  <th>Inventory</th>            <td>   -0.0867</td> <td>    0.037</td> <td>   -2.345</td> <td> 0.024</td> <td>   -0.161</td> <td>   -0.012</td>\n",
       "</tr>\n",
       "</table>\n",
       "<table class=\"simpletable\">\n",
       "<tr>\n",
       "  <th>Omnibus:</th>       <td> 4.378</td> <th>  Durbin-Watson:     </th> <td>   0.777</td>\n",
       "</tr>\n",
       "<tr>\n",
       "  <th>Prob(Omnibus):</th> <td> 0.112</td> <th>  Jarque-Bera (JB):  </th> <td>   3.286</td>\n",
       "</tr>\n",
       "<tr>\n",
       "  <th>Skew:</th>          <td>-0.560</td> <th>  Prob(JB):          </th> <td>   0.193</td>\n",
       "</tr>\n",
       "<tr>\n",
       "  <th>Kurtosis:</th>      <td> 3.542</td> <th>  Cond. No.          </th> <td>1.06e+07</td>\n",
       "</tr>\n",
       "</table>"
      ],
      "text/plain": [
       "<class 'statsmodels.iolib.summary.Summary'>\n",
       "\"\"\"\n",
       "                              OLS Regression Results                             \n",
       "=================================================================================\n",
       "Dep. Variable:     target_Apartment_rent   R-squared:                       0.998\n",
       "Model:                               OLS   Adj. R-squared:                  0.998\n",
       "Method:                    Least Squares   F-statistic:                     4028.\n",
       "Date:                   Wed, 25 Apr 2018   Prob (F-statistic):           1.03e-59\n",
       "Time:                           15:46:20   Log-Likelihood:                -273.94\n",
       "No. Observations:                     51   AIC:                             559.9\n",
       "Df Residuals:                         45   BIC:                             571.5\n",
       "Df Model:                              6                                         \n",
       "Covariance Type:               nonrobust                                         \n",
       "========================================================================================\n",
       "                           coef    std err          t      P>|t|      [0.025      0.975]\n",
       "----------------------------------------------------------------------------------------\n",
       "Year                     0.0363      0.107      0.339      0.736      -0.179       0.252\n",
       "Month                    2.2344      2.525      0.885      0.381      -2.850       7.319\n",
       "Zillow_Housing_price     0.0029      0.000      7.787      0.000       0.002       0.004\n",
       "SoldAboveListYoy      -415.4613    131.668     -3.155      0.003    -680.653    -150.269\n",
       "PriceDropsMom          296.0786    187.754      1.577      0.122     -82.078     674.235\n",
       "Inventory               -0.0867      0.037     -2.345      0.024      -0.161      -0.012\n",
       "==============================================================================\n",
       "Omnibus:                        4.378   Durbin-Watson:                   0.777\n",
       "Prob(Omnibus):                  0.112   Jarque-Bera (JB):                3.286\n",
       "Skew:                          -0.560   Prob(JB):                        0.193\n",
       "Kurtosis:                       3.542   Cond. No.                     1.06e+07\n",
       "==============================================================================\n",
       "\n",
       "Warnings:\n",
       "[1] Standard Errors assume that the covariance matrix of the errors is correctly specified.\n",
       "[2] The condition number is large, 1.06e+07. This might indicate that there are\n",
       "strong multicollinearity or other numerical problems.\n",
       "\"\"\""
      ]
     },
     "execution_count": 110,
     "metadata": {},
     "output_type": "execute_result"
    }
   ],
   "source": [
    "\n",
    "# Create your model\n",
    "model = sm.OLS(y_train,X_train)\n",
    "fit = model.fit()\n",
    "fit.summary()\n"
   ]
  },
  {
   "cell_type": "code",
   "execution_count": 111,
   "metadata": {},
   "outputs": [
    {
     "data": {
      "text/plain": [
       "(322.3127028754155, 9.519810558072361e+139)"
      ]
     },
     "execution_count": 111,
     "metadata": {},
     "output_type": "execute_result"
    }
   ],
   "source": [
    "y_pred = fit.predict(X_test)\n",
    "k = np.sqrt(np.mean((y_test['target_Apartment_rent'] - y_pred)**2))\n",
    "k, np.exp(k)"
   ]
  },
  {
   "cell_type": "code",
   "execution_count": 112,
   "metadata": {},
   "outputs": [
    {
     "data": {
      "text/plain": [
       "-49.849411334875214"
      ]
     },
     "execution_count": 112,
     "metadata": {},
     "output_type": "execute_result"
    }
   ],
   "source": [
    "results = fit\n",
    "r2_adj = 1 - ((sum((y_test['target_Apartment_rent']-results.predict(X_test))**2.0)/(len(X_test) - len(results.params) - 1))\n",
    "                /(sum((y_test['target_Apartment_rent'] - np.mean(y_test['target_Apartment_rent']))**2.0)/(len(X_test) - 1)))    \n",
    "#compute the adjusted r2 in the test set\n",
    "r2_adj"
   ]
  },
  {
   "cell_type": "code",
   "execution_count": 115,
   "metadata": {},
   "outputs": [],
   "source": [
    "from matplotlib import pyplot\n",
    "from pandas.tools.plotting import autocorrelation_plot\n",
    "#autocorrelation_plot(studio_df)\n",
    "pyplot.show()"
   ]
  },
  {
   "cell_type": "code",
   "execution_count": null,
   "metadata": {},
   "outputs": [],
   "source": []
  }
 ],
 "metadata": {
  "kernelspec": {
   "display_name": "Python 3",
   "language": "python",
   "name": "python3"
  },
  "language_info": {
   "codemirror_mode": {
    "name": "ipython",
    "version": 3
   },
   "file_extension": ".py",
   "mimetype": "text/x-python",
   "name": "python",
   "nbconvert_exporter": "python",
   "pygments_lexer": "ipython3",
   "version": "3.6.1"
  }
 },
 "nbformat": 4,
 "nbformat_minor": 2
}
