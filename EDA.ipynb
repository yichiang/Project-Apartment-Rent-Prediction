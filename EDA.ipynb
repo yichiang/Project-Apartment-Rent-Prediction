{
 "cells": [
  {
   "cell_type": "code",
   "execution_count": 1,
   "metadata": {},
   "outputs": [
    {
     "name": "stderr",
     "output_type": "stream",
     "text": [
      "/Library/Frameworks/Python.framework/Versions/3.6/lib/python3.6/site-packages/statsmodels/compat/pandas.py:56: FutureWarning: The pandas.core.datetools module is deprecated and will be removed in a future version. Please use the pandas.tseries module instead.\n",
      "  from pandas.core import datetools\n"
     ]
    }
   ],
   "source": [
    "# Python 2 & 3 Compatibility\n",
    "from __future__ import print_function, division\n",
    "\n",
    "# Necessary imports\n",
    "import pandas as pd\n",
    "import numpy as np\n",
    "import statsmodels.api as sm\n",
    "import statsmodels.formula.api as smf\n",
    "import patsy\n",
    "\n",
    "import seaborn as sns\n",
    "import matplotlib.pyplot as plt\n",
    "from sklearn.linear_model import LinearRegression\n",
    "from sklearn.linear_model import RidgeCV\n",
    "import os\n",
    "import pickle\n",
    "%matplotlib inline\n",
    "from datetime import datetime\n",
    "from dateutil.parser import parse"
   ]
  },
  {
   "cell_type": "code",
   "execution_count": 2,
   "metadata": {},
   "outputs": [
    {
     "data": {
      "text/html": [
       "<div>\n",
       "<style scoped>\n",
       "    .dataframe tbody tr th:only-of-type {\n",
       "        vertical-align: middle;\n",
       "    }\n",
       "\n",
       "    .dataframe tbody tr th {\n",
       "        vertical-align: top;\n",
       "    }\n",
       "\n",
       "    .dataframe thead th {\n",
       "        text-align: right;\n",
       "    }\n",
       "</style>\n",
       "<table border=\"1\" class=\"dataframe\">\n",
       "  <thead>\n",
       "    <tr style=\"text-align: right;\">\n",
       "      <th></th>\n",
       "      <th>BedSize</th>\n",
       "      <th>Year</th>\n",
       "      <th>Month</th>\n",
       "      <th>Apartment_rent</th>\n",
       "      <th>Shift_Year</th>\n",
       "      <th>Shift_Month</th>\n",
       "      <th>Zillow_Housing_price</th>\n",
       "      <th>Search_Count_SeattleRent</th>\n",
       "      <th>Search_Count_SeattleHousing</th>\n",
       "      <th>Search_Count_seattleApartment</th>\n",
       "    </tr>\n",
       "  </thead>\n",
       "  <tbody>\n",
       "    <tr>\n",
       "      <th>0</th>\n",
       "      <td>Studio</td>\n",
       "      <td>2017</td>\n",
       "      <td>01</td>\n",
       "      <td>1457.0</td>\n",
       "      <td>2017</td>\n",
       "      <td>01</td>\n",
       "      <td>654100.0</td>\n",
       "      <td>49</td>\n",
       "      <td>31</td>\n",
       "      <td>28</td>\n",
       "    </tr>\n",
       "    <tr>\n",
       "      <th>1</th>\n",
       "      <td>Studio</td>\n",
       "      <td>2017</td>\n",
       "      <td>02</td>\n",
       "      <td>1482.5</td>\n",
       "      <td>2017</td>\n",
       "      <td>02</td>\n",
       "      <td>667000.0</td>\n",
       "      <td>43</td>\n",
       "      <td>30</td>\n",
       "      <td>26</td>\n",
       "    </tr>\n",
       "    <tr>\n",
       "      <th>2</th>\n",
       "      <td>Studio</td>\n",
       "      <td>2017</td>\n",
       "      <td>03</td>\n",
       "      <td>1275.0</td>\n",
       "      <td>2017</td>\n",
       "      <td>03</td>\n",
       "      <td>674400.0</td>\n",
       "      <td>43</td>\n",
       "      <td>27</td>\n",
       "      <td>23</td>\n",
       "    </tr>\n",
       "    <tr>\n",
       "      <th>3</th>\n",
       "      <td>Studio</td>\n",
       "      <td>2017</td>\n",
       "      <td>04</td>\n",
       "      <td>1385.0</td>\n",
       "      <td>2017</td>\n",
       "      <td>04</td>\n",
       "      <td>671400.0</td>\n",
       "      <td>35</td>\n",
       "      <td>27</td>\n",
       "      <td>24</td>\n",
       "    </tr>\n",
       "    <tr>\n",
       "      <th>4</th>\n",
       "      <td>Studio</td>\n",
       "      <td>2017</td>\n",
       "      <td>05</td>\n",
       "      <td>1595.0</td>\n",
       "      <td>2017</td>\n",
       "      <td>05</td>\n",
       "      <td>676000.0</td>\n",
       "      <td>33</td>\n",
       "      <td>25</td>\n",
       "      <td>21</td>\n",
       "    </tr>\n",
       "  </tbody>\n",
       "</table>\n",
       "</div>"
      ],
      "text/plain": [
       "  BedSize  Year Month  Apartment_rent Shift_Year Shift_Month  \\\n",
       "0  Studio  2017    01          1457.0       2017          01   \n",
       "1  Studio  2017    02          1482.5       2017          02   \n",
       "2  Studio  2017    03          1275.0       2017          03   \n",
       "3  Studio  2017    04          1385.0       2017          04   \n",
       "4  Studio  2017    05          1595.0       2017          05   \n",
       "\n",
       "   Zillow_Housing_price Search_Count_SeattleRent Search_Count_SeattleHousing  \\\n",
       "0              654100.0                       49                          31   \n",
       "1              667000.0                       43                          30   \n",
       "2              674400.0                       43                          27   \n",
       "3              671400.0                       35                          27   \n",
       "4              676000.0                       33                          25   \n",
       "\n",
       "  Search_Count_seattleApartment  \n",
       "0                            28  \n",
       "1                            26  \n",
       "2                            23  \n",
       "3                            24  \n",
       "4                            21  "
      ]
     },
     "execution_count": 2,
     "metadata": {},
     "output_type": "execute_result"
    }
   ],
   "source": [
    "with open(\"all_data.pkl\", 'rb') as picklefile: \n",
    "    merge_housing = pickle.load(picklefile)\n",
    "merge_housing.head()"
   ]
  },
  {
   "cell_type": "code",
   "execution_count": 3,
   "metadata": {},
   "outputs": [
    {
     "data": {
      "text/plain": [
       "<matplotlib.axes._subplots.AxesSubplot at 0x10e222be0>"
      ]
     },
     "execution_count": 3,
     "metadata": {},
     "output_type": "execute_result"
    },
    {
     "data": {
      "image/png": "[encoded data removed]",
      "text/plain": [
       "<matplotlib.figure.Figure at 0x107582080>"
      ]
     },
     "metadata": {},
     "output_type": "display_data"
    }
   ],
   "source": [
    "sns.distplot(merge_housing.Apartment_rent)"
   ]
  },
  {
   "cell_type": "code",
   "execution_count": 4,
   "metadata": {},
   "outputs": [
    {
     "data": {
      "text/plain": [
       "<matplotlib.axes._subplots.AxesSubplot at 0x10e2c67f0>"
      ]
     },
     "execution_count": 4,
     "metadata": {},
     "output_type": "execute_result"
    },
    {
     "data": {
      "image/png": "[encoded data removed]",
      "text/plain": [
       "<matplotlib.figure.Figure at 0x10e25dcc0>"
      ]
     },
     "metadata": {},
     "output_type": "display_data"
    }
   ],
   "source": [
    "sns.distplot(merge_housing.Zillow_Housing_price.dropna())"
   ]
  },
  {
   "cell_type": "code",
   "execution_count": 5,
   "metadata": {},
   "outputs": [
    {
     "data": {
      "text/plain": [
       "<seaborn.axisgrid.FacetGrid at 0x10e39f978>"
      ]
     },
     "execution_count": 5,
     "metadata": {},
     "output_type": "execute_result"
    },
    {
     "data": {
      "image/png": "[encoded data removed]",
      "text/plain": [
       "<matplotlib.figure.Figure at 0x10e32fac8>"
      ]
     },
     "metadata": {},
     "output_type": "display_data"
    }
   ],
   "source": [
    "# Let's now look at Distribution of Age and Survived\n",
    "# Now look at survived data\n",
    "g = sns.FacetGrid(merge_housing, col='BedSize')\n",
    "g.map(plt.scatter, 'Year', \"Apartment_rent\")\n",
    "\n"
   ]
  },
  {
   "cell_type": "code",
   "execution_count": 6,
   "metadata": {},
   "outputs": [
    {
     "data": {
      "text/plain": [
       "2017    440\n",
       "2016    174\n",
       "2015    120\n",
       "2014     95\n",
       "2018     76\n",
       "2013     73\n",
       "2012     57\n",
       "2011     12\n",
       "Name: Year, dtype: int64"
      ]
     },
     "execution_count": 6,
     "metadata": {},
     "output_type": "execute_result"
    }
   ],
   "source": [
    "merge_housing['Year'].value_counts()"
   ]
  },
  {
   "cell_type": "code",
   "execution_count": 7,
   "metadata": {},
   "outputs": [
    {
     "data": {
      "text/plain": [
       "1Bedroom    547\n",
       "Studio      258\n",
       "2Bedroom    216\n",
       "3Bedroom     26\n",
       "Name: BedSize, dtype: int64"
      ]
     },
     "execution_count": 7,
     "metadata": {},
     "output_type": "execute_result"
    }
   ],
   "source": [
    "merge_housing['BedSize'].value_counts()"
   ]
  },
  {
   "cell_type": "code",
   "execution_count": 8,
   "metadata": {},
   "outputs": [],
   "source": [
    "df_apartment_bedSize = pd.get_dummies(merge_housing['BedSize'])\n",
    "zillow_apartment_df_new = pd.concat([merge_housing, df_apartment_bedSize], axis=1)\n"
   ]
  },
  {
   "cell_type": "code",
   "execution_count": 9,
   "metadata": {},
   "outputs": [
    {
     "data": {
      "text/html": [
       "<div>\n",
       "<style scoped>\n",
       "    .dataframe tbody tr th:only-of-type {\n",
       "        vertical-align: middle;\n",
       "    }\n",
       "\n",
       "    .dataframe tbody tr th {\n",
       "        vertical-align: top;\n",
       "    }\n",
       "\n",
       "    .dataframe thead th {\n",
       "        text-align: right;\n",
       "    }\n",
       "</style>\n",
       "<table border=\"1\" class=\"dataframe\">\n",
       "  <thead>\n",
       "    <tr style=\"text-align: right;\">\n",
       "      <th></th>\n",
       "      <th>BedSize</th>\n",
       "      <th>Year</th>\n",
       "      <th>Month</th>\n",
       "      <th>Apartment_rent</th>\n",
       "      <th>Shift_Year</th>\n",
       "      <th>Shift_Month</th>\n",
       "      <th>Zillow_Housing_price</th>\n",
       "      <th>Search_Count_SeattleRent</th>\n",
       "      <th>Search_Count_SeattleHousing</th>\n",
       "      <th>Search_Count_seattleApartment</th>\n",
       "      <th>1Bedroom</th>\n",
       "      <th>2Bedroom</th>\n",
       "      <th>3Bedroom</th>\n",
       "      <th>Studio</th>\n",
       "    </tr>\n",
       "  </thead>\n",
       "  <tbody>\n",
       "    <tr>\n",
       "      <th>0</th>\n",
       "      <td>Studio</td>\n",
       "      <td>2017</td>\n",
       "      <td>01</td>\n",
       "      <td>1457.0</td>\n",
       "      <td>2017</td>\n",
       "      <td>01</td>\n",
       "      <td>654100.0</td>\n",
       "      <td>49</td>\n",
       "      <td>31</td>\n",
       "      <td>28</td>\n",
       "      <td>0</td>\n",
       "      <td>0</td>\n",
       "      <td>0</td>\n",
       "      <td>1</td>\n",
       "    </tr>\n",
       "    <tr>\n",
       "      <th>1</th>\n",
       "      <td>Studio</td>\n",
       "      <td>2017</td>\n",
       "      <td>02</td>\n",
       "      <td>1482.5</td>\n",
       "      <td>2017</td>\n",
       "      <td>02</td>\n",
       "      <td>667000.0</td>\n",
       "      <td>43</td>\n",
       "      <td>30</td>\n",
       "      <td>26</td>\n",
       "      <td>0</td>\n",
       "      <td>0</td>\n",
       "      <td>0</td>\n",
       "      <td>1</td>\n",
       "    </tr>\n",
       "    <tr>\n",
       "      <th>2</th>\n",
       "      <td>Studio</td>\n",
       "      <td>2017</td>\n",
       "      <td>03</td>\n",
       "      <td>1275.0</td>\n",
       "      <td>2017</td>\n",
       "      <td>03</td>\n",
       "      <td>674400.0</td>\n",
       "      <td>43</td>\n",
       "      <td>27</td>\n",
       "      <td>23</td>\n",
       "      <td>0</td>\n",
       "      <td>0</td>\n",
       "      <td>0</td>\n",
       "      <td>1</td>\n",
       "    </tr>\n",
       "    <tr>\n",
       "      <th>3</th>\n",
       "      <td>Studio</td>\n",
       "      <td>2017</td>\n",
       "      <td>04</td>\n",
       "      <td>1385.0</td>\n",
       "      <td>2017</td>\n",
       "      <td>04</td>\n",
       "      <td>671400.0</td>\n",
       "      <td>35</td>\n",
       "      <td>27</td>\n",
       "      <td>24</td>\n",
       "      <td>0</td>\n",
       "      <td>0</td>\n",
       "      <td>0</td>\n",
       "      <td>1</td>\n",
       "    </tr>\n",
       "    <tr>\n",
       "      <th>4</th>\n",
       "      <td>Studio</td>\n",
       "      <td>2017</td>\n",
       "      <td>05</td>\n",
       "      <td>1595.0</td>\n",
       "      <td>2017</td>\n",
       "      <td>05</td>\n",
       "      <td>676000.0</td>\n",
       "      <td>33</td>\n",
       "      <td>25</td>\n",
       "      <td>21</td>\n",
       "      <td>0</td>\n",
       "      <td>0</td>\n",
       "      <td>0</td>\n",
       "      <td>1</td>\n",
       "    </tr>\n",
       "  </tbody>\n",
       "</table>\n",
       "</div>"
      ],
      "text/plain": [
       "  BedSize  Year Month  Apartment_rent Shift_Year Shift_Month  \\\n",
       "0  Studio  2017    01          1457.0       2017          01   \n",
       "1  Studio  2017    02          1482.5       2017          02   \n",
       "2  Studio  2017    03          1275.0       2017          03   \n",
       "3  Studio  2017    04          1385.0       2017          04   \n",
       "4  Studio  2017    05          1595.0       2017          05   \n",
       "\n",
       "   Zillow_Housing_price Search_Count_SeattleRent Search_Count_SeattleHousing  \\\n",
       "0              654100.0                       49                          31   \n",
       "1              667000.0                       43                          30   \n",
       "2              674400.0                       43                          27   \n",
       "3              671400.0                       35                          27   \n",
       "4              676000.0                       33                          25   \n",
       "\n",
       "  Search_Count_seattleApartment  1Bedroom  2Bedroom  3Bedroom  Studio  \n",
       "0                            28         0         0         0       1  \n",
       "1                            26         0         0         0       1  \n",
       "2                            23         0         0         0       1  \n",
       "3                            24         0         0         0       1  \n",
       "4                            21         0         0         0       1  "
      ]
     },
     "execution_count": 9,
     "metadata": {},
     "output_type": "execute_result"
    }
   ],
   "source": [
    "# Get Average\n",
    "zillow_apartment_grouped_df = zillow_apartment_df_new\n",
    "zillow_apartment_grouped_df.groupby(['BedSize', 'Year', 'Month'], as_index=False)['Apartment_rent'].agg('mean')\n",
    "zillow_apartment_grouped_df.head()"
   ]
  },
  {
   "cell_type": "code",
   "execution_count": null,
   "metadata": {},
   "outputs": [],
   "source": []
  },
  {
   "cell_type": "code",
   "execution_count": 10,
   "metadata": {},
   "outputs": [],
   "source": [
    "studio_df = zillow_apartment_grouped_df.loc[zillow_apartment_grouped_df['BedSize'] == 'Studio']\n",
    "oneBed_df = zillow_apartment_grouped_df.loc[zillow_apartment_grouped_df['BedSize'] == '1Bedroom']\n",
    "twoBed_df = zillow_apartment_grouped_df.loc[zillow_apartment_grouped_df['BedSize'] == '2Bedroom']"
   ]
  },
  {
   "cell_type": "code",
   "execution_count": 11,
   "metadata": {},
   "outputs": [
    {
     "data": {
      "text/plain": [
       "<matplotlib.axes._subplots.AxesSubplot at 0x10e648e48>"
      ]
     },
     "execution_count": 11,
     "metadata": {},
     "output_type": "execute_result"
    },
    {
     "data": {
      "image/png": "[encoded data removed]",
      "text/plain": [
       "<matplotlib.figure.Figure at 0x10e602a20>"
      ]
     },
     "metadata": {},
     "output_type": "display_data"
    }
   ],
   "source": [
    "merge_housing['Apartment_rent'].hist()"
   ]
  },
  {
   "cell_type": "code",
   "execution_count": 12,
   "metadata": {},
   "outputs": [
    {
     "data": {
      "text/plain": [
       "<matplotlib.axes._subplots.AxesSubplot at 0x10e60c048>"
      ]
     },
     "execution_count": 12,
     "metadata": {},
     "output_type": "execute_result"
    },
    {
     "data": {
      "image/png": "[encoded data removed]",
      "text/plain": [
       "<matplotlib.figure.Figure at 0x10e684080>"
      ]
     },
     "metadata": {},
     "output_type": "display_data"
    }
   ],
   "source": [
    "studio_df.plot.line(x='Year', y='Apartment_rent')"
   ]
  },
  {
   "cell_type": "code",
   "execution_count": 14,
   "metadata": {},
   "outputs": [
    {
     "data": {
      "text/plain": [
       "<matplotlib.axes._subplots.AxesSubplot at 0x10e9d4860>"
      ]
     },
     "execution_count": 14,
     "metadata": {},
     "output_type": "execute_result"
    },
    {
     "data": {
      "image/png": "[encoded data removed]",
      "text/plain": [
       "<matplotlib.figure.Figure at 0x10e8db358>"
      ]
     },
     "metadata": {},
     "output_type": "display_data"
    }
   ],
   "source": [
    "studio_df['Apartment_rent'].hist()"
   ]
  },
  {
   "cell_type": "code",
   "execution_count": 15,
   "metadata": {},
   "outputs": [
    {
     "data": {
      "text/plain": [
       "<matplotlib.axes._subplots.AxesSubplot at 0x10ed9ab70>"
      ]
     },
     "execution_count": 15,
     "metadata": {},
     "output_type": "execute_result"
    },
    {
     "data": {
      "image/png": "[encoded data removed]",
      "text/plain": [
       "<matplotlib.figure.Figure at 0x10eccf4a8>"
      ]
     },
     "metadata": {},
     "output_type": "display_data"
    }
   ],
   "source": [
    "oneBed_df.plot.line(x='Year', y='Apartment_rent')"
   ]
  },
  {
   "cell_type": "code",
   "execution_count": 16,
   "metadata": {},
   "outputs": [
    {
     "data": {
      "text/plain": [
       "<matplotlib.axes._subplots.AxesSubplot at 0x10e31ad68>"
      ]
     },
     "execution_count": 16,
     "metadata": {},
     "output_type": "execute_result"
    },
    {
     "data": {
      "image/png": "[encoded data removed]",
      "text/plain": [
       "<matplotlib.figure.Figure at 0x10eda1a58>"
      ]
     },
     "metadata": {},
     "output_type": "display_data"
    }
   ],
   "source": [
    "oneBed_df['Apartment_rent'].hist()"
   ]
  },
  {
   "cell_type": "code",
   "execution_count": null,
   "metadata": {},
   "outputs": [],
   "source": []
  },
  {
   "cell_type": "code",
   "execution_count": 17,
   "metadata": {},
   "outputs": [
    {
     "name": "stderr",
     "output_type": "stream",
     "text": [
      "/Library/Frameworks/Python.framework/Versions/3.6/lib/python3.6/site-packages/ipykernel_launcher.py:1: SettingWithCopyWarning: \n",
      "A value is trying to be set on a copy of a slice from a DataFrame.\n",
      "Try using .loc[row_indexer,col_indexer] = value instead\n",
      "\n",
      "See the caveats in the documentation: http://pandas.pydata.org/pandas-docs/stable/indexing.html#indexing-view-versus-copy\n",
      "  \"\"\"Entry point for launching an IPython kernel.\n"
     ]
    },
    {
     "data": {
      "text/plain": [
       "<matplotlib.axes._subplots.AxesSubplot at 0x10ed59e80>"
      ]
     },
     "execution_count": 17,
     "metadata": {},
     "output_type": "execute_result"
    },
    {
     "data": {
      "image/png": "[encoded data removed]",
      "text/plain": [
       "<matplotlib.figure.Figure at 0x10e5b47f0>"
      ]
     },
     "metadata": {},
     "output_type": "display_data"
    }
   ],
   "source": [
    "oneBed_df['log_price'] = np.log(oneBed_df['Apartment_rent'])\n",
    "oneBed_df.plot.line(x='Year', y='log_price')"
   ]
  },
  {
   "cell_type": "code",
   "execution_count": 18,
   "metadata": {},
   "outputs": [
    {
     "data": {
      "text/html": [
       "<div>\n",
       "<style scoped>\n",
       "    .dataframe tbody tr th:only-of-type {\n",
       "        vertical-align: middle;\n",
       "    }\n",
       "\n",
       "    .dataframe tbody tr th {\n",
       "        vertical-align: top;\n",
       "    }\n",
       "\n",
       "    .dataframe thead th {\n",
       "        text-align: right;\n",
       "    }\n",
       "</style>\n",
       "<table border=\"1\" class=\"dataframe\">\n",
       "  <thead>\n",
       "    <tr style=\"text-align: right;\">\n",
       "      <th></th>\n",
       "      <th>BedSize</th>\n",
       "      <th>Year</th>\n",
       "      <th>Month</th>\n",
       "      <th>Apartment_rent</th>\n",
       "      <th>Shift_Year</th>\n",
       "      <th>Shift_Month</th>\n",
       "      <th>Zillow_Housing_price</th>\n",
       "      <th>Search_Count_SeattleRent</th>\n",
       "      <th>Search_Count_SeattleHousing</th>\n",
       "      <th>Search_Count_seattleApartment</th>\n",
       "      <th>1Bedroom</th>\n",
       "      <th>2Bedroom</th>\n",
       "      <th>3Bedroom</th>\n",
       "      <th>Studio</th>\n",
       "      <th>log_price</th>\n",
       "    </tr>\n",
       "  </thead>\n",
       "  <tbody>\n",
       "    <tr>\n",
       "      <th>258</th>\n",
       "      <td>1Bedroom</td>\n",
       "      <td>2016</td>\n",
       "      <td>06</td>\n",
       "      <td>1745.0</td>\n",
       "      <td>2016</td>\n",
       "      <td>06</td>\n",
       "      <td>568500.0</td>\n",
       "      <td>33</td>\n",
       "      <td>24</td>\n",
       "      <td>20</td>\n",
       "      <td>1</td>\n",
       "      <td>0</td>\n",
       "      <td>0</td>\n",
       "      <td>0</td>\n",
       "      <td>7.464510</td>\n",
       "    </tr>\n",
       "    <tr>\n",
       "      <th>259</th>\n",
       "      <td>1Bedroom</td>\n",
       "      <td>2016</td>\n",
       "      <td>07</td>\n",
       "      <td>1750.0</td>\n",
       "      <td>2016</td>\n",
       "      <td>07</td>\n",
       "      <td>576500.0</td>\n",
       "      <td>42</td>\n",
       "      <td>27</td>\n",
       "      <td>28</td>\n",
       "      <td>1</td>\n",
       "      <td>0</td>\n",
       "      <td>0</td>\n",
       "      <td>0</td>\n",
       "      <td>7.467371</td>\n",
       "    </tr>\n",
       "    <tr>\n",
       "      <th>260</th>\n",
       "      <td>1Bedroom</td>\n",
       "      <td>2016</td>\n",
       "      <td>08</td>\n",
       "      <td>1745.0</td>\n",
       "      <td>2016</td>\n",
       "      <td>08</td>\n",
       "      <td>587000.0</td>\n",
       "      <td>48</td>\n",
       "      <td>34</td>\n",
       "      <td>22</td>\n",
       "      <td>1</td>\n",
       "      <td>0</td>\n",
       "      <td>0</td>\n",
       "      <td>0</td>\n",
       "      <td>7.464510</td>\n",
       "    </tr>\n",
       "    <tr>\n",
       "      <th>261</th>\n",
       "      <td>1Bedroom</td>\n",
       "      <td>2016</td>\n",
       "      <td>09</td>\n",
       "      <td>1795.0</td>\n",
       "      <td>2016</td>\n",
       "      <td>09</td>\n",
       "      <td>600700.0</td>\n",
       "      <td>42</td>\n",
       "      <td>29</td>\n",
       "      <td>25</td>\n",
       "      <td>1</td>\n",
       "      <td>0</td>\n",
       "      <td>0</td>\n",
       "      <td>0</td>\n",
       "      <td>7.492760</td>\n",
       "    </tr>\n",
       "    <tr>\n",
       "      <th>262</th>\n",
       "      <td>1Bedroom</td>\n",
       "      <td>2016</td>\n",
       "      <td>10</td>\n",
       "      <td>1819.0</td>\n",
       "      <td>2016</td>\n",
       "      <td>10</td>\n",
       "      <td>616000.0</td>\n",
       "      <td>41</td>\n",
       "      <td>29</td>\n",
       "      <td>28</td>\n",
       "      <td>1</td>\n",
       "      <td>0</td>\n",
       "      <td>0</td>\n",
       "      <td>0</td>\n",
       "      <td>7.506042</td>\n",
       "    </tr>\n",
       "  </tbody>\n",
       "</table>\n",
       "</div>"
      ],
      "text/plain": [
       "      BedSize  Year Month  Apartment_rent Shift_Year Shift_Month  \\\n",
       "258  1Bedroom  2016    06          1745.0       2016          06   \n",
       "259  1Bedroom  2016    07          1750.0       2016          07   \n",
       "260  1Bedroom  2016    08          1745.0       2016          08   \n",
       "261  1Bedroom  2016    09          1795.0       2016          09   \n",
       "262  1Bedroom  2016    10          1819.0       2016          10   \n",
       "\n",
       "     Zillow_Housing_price Search_Count_SeattleRent  \\\n",
       "258              568500.0                       33   \n",
       "259              576500.0                       42   \n",
       "260              587000.0                       48   \n",
       "261              600700.0                       42   \n",
       "262              616000.0                       41   \n",
       "\n",
       "    Search_Count_SeattleHousing Search_Count_seattleApartment  1Bedroom  \\\n",
       "258                          24                            20         1   \n",
       "259                          27                            28         1   \n",
       "260                          34                            22         1   \n",
       "261                          29                            25         1   \n",
       "262                          29                            28         1   \n",
       "\n",
       "     2Bedroom  3Bedroom  Studio  log_price  \n",
       "258         0         0       0   7.464510  \n",
       "259         0         0       0   7.467371  \n",
       "260         0         0       0   7.464510  \n",
       "261         0         0       0   7.492760  \n",
       "262         0         0       0   7.506042  "
      ]
     },
     "execution_count": 18,
     "metadata": {},
     "output_type": "execute_result"
    }
   ],
   "source": [
    "oneBed_df.head()"
   ]
  },
  {
   "cell_type": "code",
   "execution_count": 19,
   "metadata": {},
   "outputs": [
    {
     "data": {
      "text/plain": [
       "<matplotlib.axes._subplots.AxesSubplot at 0x10f052860>"
      ]
     },
     "execution_count": 19,
     "metadata": {},
     "output_type": "execute_result"
    },
    {
     "data": {
      "image/png": "[encoded data removed]",
      "text/plain": [
       "<matplotlib.figure.Figure at 0x10e9f0e80>"
      ]
     },
     "metadata": {},
     "output_type": "display_data"
    }
   ],
   "source": [
    "twoBed_df.plot.line(x='Year', y='Apartment_rent')"
   ]
  },
  {
   "cell_type": "code",
   "execution_count": 20,
   "metadata": {},
   "outputs": [
    {
     "data": {
      "text/plain": [
       "<matplotlib.axes._subplots.AxesSubplot at 0x10f057a20>"
      ]
     },
     "execution_count": 20,
     "metadata": {},
     "output_type": "execute_result"
    },
    {
     "data": {
      "image/png": "[encoded data removed]",
      "text/plain": [
       "<matplotlib.figure.Figure at 0x10ef25588>"
      ]
     },
     "metadata": {},
     "output_type": "display_data"
    }
   ],
   "source": [
    "twoBed_df['Apartment_rent'].hist()"
   ]
  },
  {
   "cell_type": "code",
   "execution_count": 21,
   "metadata": {},
   "outputs": [
    {
     "data": {
      "text/html": [
       "<div>\n",
       "<style scoped>\n",
       "    .dataframe tbody tr th:only-of-type {\n",
       "        vertical-align: middle;\n",
       "    }\n",
       "\n",
       "    .dataframe tbody tr th {\n",
       "        vertical-align: top;\n",
       "    }\n",
       "\n",
       "    .dataframe thead th {\n",
       "        text-align: right;\n",
       "    }\n",
       "</style>\n",
       "<table border=\"1\" class=\"dataframe\">\n",
       "  <thead>\n",
       "    <tr style=\"text-align: right;\">\n",
       "      <th></th>\n",
       "      <th>BedSize</th>\n",
       "      <th>Year</th>\n",
       "      <th>Month</th>\n",
       "      <th>Apartment_rent</th>\n",
       "      <th>Shift_Year</th>\n",
       "      <th>Shift_Month</th>\n",
       "      <th>Zillow_Housing_price</th>\n",
       "      <th>Search_Count_SeattleRent</th>\n",
       "      <th>Search_Count_SeattleHousing</th>\n",
       "      <th>Search_Count_seattleApartment</th>\n",
       "      <th>1Bedroom</th>\n",
       "      <th>2Bedroom</th>\n",
       "      <th>3Bedroom</th>\n",
       "      <th>Studio</th>\n",
       "    </tr>\n",
       "  </thead>\n",
       "  <tbody>\n",
       "    <tr>\n",
       "      <th>0</th>\n",
       "      <td>Studio</td>\n",
       "      <td>2017</td>\n",
       "      <td>01</td>\n",
       "      <td>1457.0</td>\n",
       "      <td>2017</td>\n",
       "      <td>01</td>\n",
       "      <td>654100.0</td>\n",
       "      <td>49</td>\n",
       "      <td>31</td>\n",
       "      <td>28</td>\n",
       "      <td>0</td>\n",
       "      <td>0</td>\n",
       "      <td>0</td>\n",
       "      <td>1</td>\n",
       "    </tr>\n",
       "    <tr>\n",
       "      <th>1</th>\n",
       "      <td>Studio</td>\n",
       "      <td>2017</td>\n",
       "      <td>02</td>\n",
       "      <td>1482.5</td>\n",
       "      <td>2017</td>\n",
       "      <td>02</td>\n",
       "      <td>667000.0</td>\n",
       "      <td>43</td>\n",
       "      <td>30</td>\n",
       "      <td>26</td>\n",
       "      <td>0</td>\n",
       "      <td>0</td>\n",
       "      <td>0</td>\n",
       "      <td>1</td>\n",
       "    </tr>\n",
       "    <tr>\n",
       "      <th>2</th>\n",
       "      <td>Studio</td>\n",
       "      <td>2017</td>\n",
       "      <td>03</td>\n",
       "      <td>1275.0</td>\n",
       "      <td>2017</td>\n",
       "      <td>03</td>\n",
       "      <td>674400.0</td>\n",
       "      <td>43</td>\n",
       "      <td>27</td>\n",
       "      <td>23</td>\n",
       "      <td>0</td>\n",
       "      <td>0</td>\n",
       "      <td>0</td>\n",
       "      <td>1</td>\n",
       "    </tr>\n",
       "    <tr>\n",
       "      <th>3</th>\n",
       "      <td>Studio</td>\n",
       "      <td>2017</td>\n",
       "      <td>04</td>\n",
       "      <td>1385.0</td>\n",
       "      <td>2017</td>\n",
       "      <td>04</td>\n",
       "      <td>671400.0</td>\n",
       "      <td>35</td>\n",
       "      <td>27</td>\n",
       "      <td>24</td>\n",
       "      <td>0</td>\n",
       "      <td>0</td>\n",
       "      <td>0</td>\n",
       "      <td>1</td>\n",
       "    </tr>\n",
       "    <tr>\n",
       "      <th>4</th>\n",
       "      <td>Studio</td>\n",
       "      <td>2017</td>\n",
       "      <td>05</td>\n",
       "      <td>1595.0</td>\n",
       "      <td>2017</td>\n",
       "      <td>05</td>\n",
       "      <td>676000.0</td>\n",
       "      <td>33</td>\n",
       "      <td>25</td>\n",
       "      <td>21</td>\n",
       "      <td>0</td>\n",
       "      <td>0</td>\n",
       "      <td>0</td>\n",
       "      <td>1</td>\n",
       "    </tr>\n",
       "  </tbody>\n",
       "</table>\n",
       "</div>"
      ],
      "text/plain": [
       "  BedSize  Year Month  Apartment_rent Shift_Year Shift_Month  \\\n",
       "0  Studio  2017    01          1457.0       2017          01   \n",
       "1  Studio  2017    02          1482.5       2017          02   \n",
       "2  Studio  2017    03          1275.0       2017          03   \n",
       "3  Studio  2017    04          1385.0       2017          04   \n",
       "4  Studio  2017    05          1595.0       2017          05   \n",
       "\n",
       "   Zillow_Housing_price Search_Count_SeattleRent Search_Count_SeattleHousing  \\\n",
       "0              654100.0                       49                          31   \n",
       "1              667000.0                       43                          30   \n",
       "2              674400.0                       43                          27   \n",
       "3              671400.0                       35                          27   \n",
       "4              676000.0                       33                          25   \n",
       "\n",
       "  Search_Count_seattleApartment  1Bedroom  2Bedroom  3Bedroom  Studio  \n",
       "0                            28         0         0         0       1  \n",
       "1                            26         0         0         0       1  \n",
       "2                            23         0         0         0       1  \n",
       "3                            24         0         0         0       1  \n",
       "4                            21         0         0         0       1  "
      ]
     },
     "execution_count": 21,
     "metadata": {},
     "output_type": "execute_result"
    }
   ],
   "source": [
    "zillow_apartment_df_new.head()"
   ]
  },
  {
   "cell_type": "code",
   "execution_count": 22,
   "metadata": {},
   "outputs": [
    {
     "data": {
      "text/plain": [
       "1047"
      ]
     },
     "execution_count": 22,
     "metadata": {},
     "output_type": "execute_result"
    }
   ],
   "source": [
    "len(zillow_apartment_df_new)"
   ]
  },
  {
   "cell_type": "code",
   "execution_count": 23,
   "metadata": {},
   "outputs": [
    {
     "data": {
      "text/plain": [
       "(1047, 14)"
      ]
     },
     "execution_count": 23,
     "metadata": {},
     "output_type": "execute_result"
    }
   ],
   "source": [
    "zillow_apartment_df_new.shape"
   ]
  },
  {
   "cell_type": "code",
   "execution_count": null,
   "metadata": {},
   "outputs": [],
   "source": []
  },
  {
   "cell_type": "code",
   "execution_count": null,
   "metadata": {},
   "outputs": [
    {
     "name": "stderr",
     "output_type": "stream",
     "text": [
      "/Library/Frameworks/Python.framework/Versions/3.6/lib/python3.6/site-packages/ipykernel_launcher.py:2: FutureWarning: pandas.scatter_matrix is deprecated. Use pandas.plotting.scatter_matrix instead\n",
      "  \n"
     ]
    }
   ],
   "source": [
    "# Plot all of the variable-to-variable relations as scatterplots\n",
    "pd.scatter_matrix(zillow_apartment_df_new, figsize=(12,8), s=1000)"
   ]
  },
  {
   "cell_type": "code",
   "execution_count": null,
   "metadata": {},
   "outputs": [],
   "source": []
  },
  {
   "cell_type": "code",
   "execution_count": null,
   "metadata": {},
   "outputs": [],
   "source": []
  }
 ],
 "metadata": {
  "kernelspec": {
   "display_name": "Python 3",
   "language": "python",
   "name": "python3"
  },
  "language_info": {
   "codemirror_mode": {
    "name": "ipython",
    "version": 3
   },
   "file_extension": ".py",
   "mimetype": "text/x-python",
   "name": "python",
   "nbconvert_exporter": "python",
   "pygments_lexer": "ipython3",
   "version": "3.6.1"
  }
 },
 "nbformat": 4,
 "nbformat_minor": 2
}
