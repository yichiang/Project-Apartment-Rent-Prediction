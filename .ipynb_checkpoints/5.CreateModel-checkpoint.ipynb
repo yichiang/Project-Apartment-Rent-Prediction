{
 "cells": [
  {
   "cell_type": "code",
   "execution_count": 202,
   "metadata": {},
   "outputs": [],
   "source": [
    "# Python 2 & 3 Compatibility\n",
    "from __future__ import print_function, division\n",
    "\n",
    "# Necessary imports\n",
    "import pandas as pd\n",
    "import numpy as np\n",
    "import statsmodels.api as sm\n",
    "import statsmodels.formula.api as smf\n",
    "import patsy\n",
    "from scipy import stats\n",
    "import seaborn as sns\n",
    "import matplotlib.pyplot as plt\n",
    "from sklearn.linear_model import LinearRegression\n",
    "from sklearn.linear_model import RidgeCV, LassoCV, ElasticNetCV\n",
    "from sklearn.preprocessing import PolynomialFeatures\n",
    "from sklearn.metrics import mean_squared_error\n",
    "from sklearn.cross_validation import train_test_split\n",
    "\n",
    "from sklearn.metrics import r2_score\n",
    "import os\n",
    "import pickle\n",
    "%matplotlib inline\n",
    "from datetime import datetime\n",
    "from dateutil.parser import parse"
   ]
  },
  {
   "cell_type": "code",
   "execution_count": 522,
   "metadata": {},
   "outputs": [],
   "source": [
    "cutoff_date ='2016-09-01'\n",
    "start_date='2014-01-01'\n",
    "end_date='2018-12-01'"
   ]
  },
  {
   "cell_type": "code",
   "execution_count": 523,
   "metadata": {},
   "outputs": [],
   "source": [
    "def getRMSAndMSE(a, b):\n",
    "    mse = mean_squared_error(a, b)\n",
    "    rmse = mse ** 0.5\n",
    "    return {'mse':mse,'rmse': rmse}"
   ]
  },
  {
   "cell_type": "code",
   "execution_count": 524,
   "metadata": {},
   "outputs": [],
   "source": [
    "def plotPredict(y_train_f, y_train_predict, y_predict_model_f, y_predict_f):\n",
    "    y_predict_series_f = y_predict_model_f[:]\n",
    "    y_predict_series_f['predict_rent']=y_predict_f\n",
    "\n",
    "    \n",
    "    y_train_f_series = y_train_f[:]\n",
    "    y_train_f_series['train_rent'] = y_train_predict\n",
    "    \n",
    "    known = y_train_f['target_Apartment_rent'].append(y_predict_series_f['target_Apartment_rent'][0:1])\n",
    "    unknown = y_predict_series_f['target_Apartment_rent']\n",
    "    to_predict = y_predict_series_f['predict_rent']\n",
    "    perdict_train = y_train_f_series['train_rent']\n",
    "    \n",
    "    fig, ax = plt.subplots();\n",
    "    fig.set_size_inches(18.5, 10.5)\n",
    "    perdict_train.plot(ax=ax, c='g', marker='x', zorder=3);\n",
    "    known.plot(ax=ax, c='c', marker='o', zorder=3);\n",
    "    unknown.plot(ax=ax, c='grey', alpha=0.5);\n",
    "    to_predict.plot(ax=ax, c='r', marker='o', markersize=16,\n",
    "                    linestyle='');\n",
    "\n",
    "    ax.legend(['train','known', 'future', 'predict Rent'], fontsize=18);\n",
    "    ax.set_ylabel('Rent', fontsize=16);\n",
    "    plt.xlabel('Date', fontsize=18)\n"
   ]
  },
  {
   "cell_type": "code",
   "execution_count": 525,
   "metadata": {},
   "outputs": [
    {
     "data": {
      "text/html": [
       "<div>\n",
       "<style scoped>\n",
       "    .dataframe tbody tr th:only-of-type {\n",
       "        vertical-align: middle;\n",
       "    }\n",
       "\n",
       "    .dataframe tbody tr th {\n",
       "        vertical-align: top;\n",
       "    }\n",
       "\n",
       "    .dataframe thead th {\n",
       "        text-align: right;\n",
       "    }\n",
       "</style>\n",
       "<table border=\"1\" class=\"dataframe\">\n",
       "  <thead>\n",
       "    <tr style=\"text-align: right;\">\n",
       "      <th></th>\n",
       "      <th>BedSize</th>\n",
       "      <th>Year</th>\n",
       "      <th>Month</th>\n",
       "      <th>Apartment_rent</th>\n",
       "      <th>Shift_Year</th>\n",
       "      <th>Shift_Month</th>\n",
       "      <th>Zillow_Housing_price</th>\n",
       "      <th>Search_Count_SeattleRent</th>\n",
       "      <th>Search_Count_SeattleHousing</th>\n",
       "      <th>Search_Count_seattleApartment</th>\n",
       "      <th>...</th>\n",
       "      <th>PriceDropsMom</th>\n",
       "      <th>PriceDropsYoy</th>\n",
       "      <th>SoldAboveList</th>\n",
       "      <th>SoldAboveListMom</th>\n",
       "      <th>SoldAboveListYoy</th>\n",
       "      <th>Date</th>\n",
       "      <th>count_news_seattle+shooting</th>\n",
       "      <th>count_news_seattle+murder</th>\n",
       "      <th>count_news_seattle+dead+shooting</th>\n",
       "      <th>target_Apartment_rent</th>\n",
       "    </tr>\n",
       "  </thead>\n",
       "  <tbody>\n",
       "    <tr>\n",
       "      <th>28</th>\n",
       "      <td>Studio</td>\n",
       "      <td>2013</td>\n",
       "      <td>7</td>\n",
       "      <td>1188.0</td>\n",
       "      <td>2013</td>\n",
       "      <td>07</td>\n",
       "      <td>430600.0</td>\n",
       "      <td>40</td>\n",
       "      <td>25</td>\n",
       "      <td>22</td>\n",
       "      <td>...</td>\n",
       "      <td>0.039606</td>\n",
       "      <td>0.037088</td>\n",
       "      <td>0.277174</td>\n",
       "      <td>0.021826</td>\n",
       "      <td>0.032856</td>\n",
       "      <td>2013-07-01</td>\n",
       "      <td>8170</td>\n",
       "      <td>10900</td>\n",
       "      <td>5460</td>\n",
       "      <td>1188.0</td>\n",
       "    </tr>\n",
       "    <tr>\n",
       "      <th>29</th>\n",
       "      <td>Studio</td>\n",
       "      <td>2013</td>\n",
       "      <td>8</td>\n",
       "      <td>1199.0</td>\n",
       "      <td>2013</td>\n",
       "      <td>08</td>\n",
       "      <td>435300.0</td>\n",
       "      <td>37</td>\n",
       "      <td>23</td>\n",
       "      <td>24</td>\n",
       "      <td>...</td>\n",
       "      <td>-0.012473</td>\n",
       "      <td>0.044360</td>\n",
       "      <td>0.331746</td>\n",
       "      <td>0.054572</td>\n",
       "      <td>-0.007477</td>\n",
       "      <td>2013-08-01</td>\n",
       "      <td>9740</td>\n",
       "      <td>13900</td>\n",
       "      <td>6380</td>\n",
       "      <td>1199.0</td>\n",
       "    </tr>\n",
       "    <tr>\n",
       "      <th>30</th>\n",
       "      <td>Studio</td>\n",
       "      <td>2013</td>\n",
       "      <td>9</td>\n",
       "      <td>1231.0</td>\n",
       "      <td>2013</td>\n",
       "      <td>09</td>\n",
       "      <td>430100.0</td>\n",
       "      <td>42</td>\n",
       "      <td>27</td>\n",
       "      <td>27</td>\n",
       "      <td>...</td>\n",
       "      <td>0.024914</td>\n",
       "      <td>0.017092</td>\n",
       "      <td>0.404790</td>\n",
       "      <td>0.073044</td>\n",
       "      <td>0.041376</td>\n",
       "      <td>2013-09-01</td>\n",
       "      <td>4420</td>\n",
       "      <td>7230</td>\n",
       "      <td>3030</td>\n",
       "      <td>1231.0</td>\n",
       "    </tr>\n",
       "    <tr>\n",
       "      <th>31</th>\n",
       "      <td>Studio</td>\n",
       "      <td>2013</td>\n",
       "      <td>10</td>\n",
       "      <td>1180.0</td>\n",
       "      <td>2013</td>\n",
       "      <td>10</td>\n",
       "      <td>424600.0</td>\n",
       "      <td>40</td>\n",
       "      <td>27</td>\n",
       "      <td>26</td>\n",
       "      <td>...</td>\n",
       "      <td>0.004972</td>\n",
       "      <td>0.025687</td>\n",
       "      <td>0.453044</td>\n",
       "      <td>0.048254</td>\n",
       "      <td>0.043381</td>\n",
       "      <td>2013-10-01</td>\n",
       "      <td>10400</td>\n",
       "      <td>14800</td>\n",
       "      <td>6720</td>\n",
       "      <td>1180.0</td>\n",
       "    </tr>\n",
       "    <tr>\n",
       "      <th>32</th>\n",
       "      <td>Studio</td>\n",
       "      <td>2013</td>\n",
       "      <td>11</td>\n",
       "      <td>1205.0</td>\n",
       "      <td>2013</td>\n",
       "      <td>11</td>\n",
       "      <td>424900.0</td>\n",
       "      <td>46</td>\n",
       "      <td>27</td>\n",
       "      <td>28</td>\n",
       "      <td>...</td>\n",
       "      <td>0.010006</td>\n",
       "      <td>0.012604</td>\n",
       "      <td>0.439771</td>\n",
       "      <td>-0.013274</td>\n",
       "      <td>-0.013229</td>\n",
       "      <td>2013-11-01</td>\n",
       "      <td>10500</td>\n",
       "      <td>15900</td>\n",
       "      <td>7070</td>\n",
       "      <td>1205.0</td>\n",
       "    </tr>\n",
       "  </tbody>\n",
       "</table>\n",
       "<p>5 rows × 52 columns</p>\n",
       "</div>"
      ],
      "text/plain": [
       "   BedSize  Year  Month  Apartment_rent Shift_Year Shift_Month  \\\n",
       "28  Studio  2013      7          1188.0       2013          07   \n",
       "29  Studio  2013      8          1199.0       2013          08   \n",
       "30  Studio  2013      9          1231.0       2013          09   \n",
       "31  Studio  2013     10          1180.0       2013          10   \n",
       "32  Studio  2013     11          1205.0       2013          11   \n",
       "\n",
       "    Zillow_Housing_price  Search_Count_SeattleRent  \\\n",
       "28              430600.0                        40   \n",
       "29              435300.0                        37   \n",
       "30              430100.0                        42   \n",
       "31              424600.0                        40   \n",
       "32              424900.0                        46   \n",
       "\n",
       "    Search_Count_SeattleHousing  Search_Count_seattleApartment  \\\n",
       "28                           25                             22   \n",
       "29                           23                             24   \n",
       "30                           27                             27   \n",
       "31                           27                             26   \n",
       "32                           27                             28   \n",
       "\n",
       "            ...            PriceDropsMom  PriceDropsYoy  SoldAboveList  \\\n",
       "28          ...                 0.039606       0.037088       0.277174   \n",
       "29          ...                -0.012473       0.044360       0.331746   \n",
       "30          ...                 0.024914       0.017092       0.404790   \n",
       "31          ...                 0.004972       0.025687       0.453044   \n",
       "32          ...                 0.010006       0.012604       0.439771   \n",
       "\n",
       "    SoldAboveListMom  SoldAboveListYoy       Date  \\\n",
       "28          0.021826          0.032856 2013-07-01   \n",
       "29          0.054572         -0.007477 2013-08-01   \n",
       "30          0.073044          0.041376 2013-09-01   \n",
       "31          0.048254          0.043381 2013-10-01   \n",
       "32         -0.013274         -0.013229 2013-11-01   \n",
       "\n",
       "    count_news_seattle+shooting  count_news_seattle+murder  \\\n",
       "28                         8170                      10900   \n",
       "29                         9740                      13900   \n",
       "30                         4420                       7230   \n",
       "31                        10400                      14800   \n",
       "32                        10500                      15900   \n",
       "\n",
       "    count_news_seattle+dead+shooting  target_Apartment_rent  \n",
       "28                              5460                 1188.0  \n",
       "29                              6380                 1199.0  \n",
       "30                              3030                 1231.0  \n",
       "31                              6720                 1180.0  \n",
       "32                              7070                 1205.0  \n",
       "\n",
       "[5 rows x 52 columns]"
      ]
     },
     "execution_count": 525,
     "metadata": {},
     "output_type": "execute_result"
    }
   ],
   "source": [
    "with open(\"all_clean_data.pkl\", 'rb') as picklefile: \n",
    "    merge_housing = pickle.load(picklefile)\n",
    "merge_housing.head()"
   ]
  },
  {
   "cell_type": "code",
   "execution_count": 526,
   "metadata": {},
   "outputs": [
    {
     "data": {
      "text/plain": [
       "Index(['BedSize', 'Year', 'Month', 'Apartment_rent', 'Shift_Year',\n",
       "       'Shift_Month', 'Zillow_Housing_price', 'Search_Count_SeattleRent',\n",
       "       'Search_Count_SeattleHousing', 'Search_Count_seattleApartment',\n",
       "       'AvgSaleToList', 'AvgSaleToListMom', 'AvgSaleToListYoy', 'HomesSold',\n",
       "       'HomesSoldMom', 'HomesSoldYoy', 'Inventory', 'InventoryMom',\n",
       "       'InventoryYoy', 'MedianDom', 'MedianDomMom', 'MedianDomYoy',\n",
       "       'MedianListPpsf', 'MedianListPpsfMom', 'MedianListPpsfYoy',\n",
       "       'MedianListPrice', 'MedianListPriceMom', 'MedianListPriceYoy',\n",
       "       'MedianPpsf', 'MedianPpsfMom', 'MedianPpsfYoy', 'MedianSalePrice',\n",
       "       'MedianSalePriceMom', 'MedianSalePriceYoy', 'months_of_supply',\n",
       "       'months_of_supply_mom', 'months_of_supply_yoy', 'NewListings',\n",
       "       'NewListingsMom', 'NewListingsYoy', 'NumberofRecords', 'PriceDrops',\n",
       "       'PriceDropsMom', 'PriceDropsYoy', 'SoldAboveList', 'SoldAboveListMom',\n",
       "       'SoldAboveListYoy', 'Date', 'count_news_seattle+shooting',\n",
       "       'count_news_seattle+murder', 'count_news_seattle+dead+shooting',\n",
       "       'target_Apartment_rent'],\n",
       "      dtype='object')"
      ]
     },
     "execution_count": 526,
     "metadata": {},
     "output_type": "execute_result"
    }
   ],
   "source": [
    "merge_housing.columns"
   ]
  },
  {
   "cell_type": "code",
   "execution_count": 527,
   "metadata": {},
   "outputs": [],
   "source": [
    "merge_housing = merge_housing.drop(['Apartment_rent'], 1)\n",
    "merge_housing = merge_housing.dropna().set_index('Date')"
   ]
  },
  {
   "cell_type": "code",
   "execution_count": 528,
   "metadata": {},
   "outputs": [],
   "source": [
    "studio_df = merge_housing.loc[merge_housing['BedSize'] == 'Studio']\n",
    "oneBed_df = merge_housing.loc[merge_housing['BedSize'] == '1Bedroom']\n",
    "twoBed_df = merge_housing.loc[merge_housing['BedSize'] == '2Bedroom']"
   ]
  },
  {
   "cell_type": "code",
   "execution_count": 529,
   "metadata": {},
   "outputs": [
    {
     "data": {
      "text/html": [
       "<div>\n",
       "<style scoped>\n",
       "    .dataframe tbody tr th:only-of-type {\n",
       "        vertical-align: middle;\n",
       "    }\n",
       "\n",
       "    .dataframe tbody tr th {\n",
       "        vertical-align: top;\n",
       "    }\n",
       "\n",
       "    .dataframe thead th {\n",
       "        text-align: right;\n",
       "    }\n",
       "</style>\n",
       "<table border=\"1\" class=\"dataframe\">\n",
       "  <thead>\n",
       "    <tr style=\"text-align: right;\">\n",
       "      <th></th>\n",
       "      <th>BedSize</th>\n",
       "      <th>Year</th>\n",
       "      <th>Month</th>\n",
       "      <th>Shift_Year</th>\n",
       "      <th>Shift_Month</th>\n",
       "      <th>Zillow_Housing_price</th>\n",
       "      <th>Search_Count_SeattleRent</th>\n",
       "      <th>Search_Count_SeattleHousing</th>\n",
       "      <th>Search_Count_seattleApartment</th>\n",
       "      <th>AvgSaleToList</th>\n",
       "      <th>...</th>\n",
       "      <th>PriceDrops</th>\n",
       "      <th>PriceDropsMom</th>\n",
       "      <th>PriceDropsYoy</th>\n",
       "      <th>SoldAboveList</th>\n",
       "      <th>SoldAboveListMom</th>\n",
       "      <th>SoldAboveListYoy</th>\n",
       "      <th>count_news_seattle+shooting</th>\n",
       "      <th>count_news_seattle+murder</th>\n",
       "      <th>count_news_seattle+dead+shooting</th>\n",
       "      <th>target_Apartment_rent</th>\n",
       "    </tr>\n",
       "    <tr>\n",
       "      <th>Date</th>\n",
       "      <th></th>\n",
       "      <th></th>\n",
       "      <th></th>\n",
       "      <th></th>\n",
       "      <th></th>\n",
       "      <th></th>\n",
       "      <th></th>\n",
       "      <th></th>\n",
       "      <th></th>\n",
       "      <th></th>\n",
       "      <th></th>\n",
       "      <th></th>\n",
       "      <th></th>\n",
       "      <th></th>\n",
       "      <th></th>\n",
       "      <th></th>\n",
       "      <th></th>\n",
       "      <th></th>\n",
       "      <th></th>\n",
       "      <th></th>\n",
       "      <th></th>\n",
       "    </tr>\n",
       "  </thead>\n",
       "  <tbody>\n",
       "    <tr>\n",
       "      <th>2013-07-01</th>\n",
       "      <td>Studio</td>\n",
       "      <td>2013</td>\n",
       "      <td>7</td>\n",
       "      <td>2013</td>\n",
       "      <td>07</td>\n",
       "      <td>430600.0</td>\n",
       "      <td>40</td>\n",
       "      <td>25</td>\n",
       "      <td>22</td>\n",
       "      <td>0.990675</td>\n",
       "      <td>...</td>\n",
       "      <td>0.249802</td>\n",
       "      <td>0.039606</td>\n",
       "      <td>0.037088</td>\n",
       "      <td>0.277174</td>\n",
       "      <td>0.021826</td>\n",
       "      <td>0.032856</td>\n",
       "      <td>8170</td>\n",
       "      <td>10900</td>\n",
       "      <td>5460</td>\n",
       "      <td>1188.0</td>\n",
       "    </tr>\n",
       "    <tr>\n",
       "      <th>2013-08-01</th>\n",
       "      <td>Studio</td>\n",
       "      <td>2013</td>\n",
       "      <td>8</td>\n",
       "      <td>2013</td>\n",
       "      <td>08</td>\n",
       "      <td>435300.0</td>\n",
       "      <td>37</td>\n",
       "      <td>23</td>\n",
       "      <td>24</td>\n",
       "      <td>1.003360</td>\n",
       "      <td>...</td>\n",
       "      <td>0.237329</td>\n",
       "      <td>-0.012473</td>\n",
       "      <td>0.044360</td>\n",
       "      <td>0.331746</td>\n",
       "      <td>0.054572</td>\n",
       "      <td>-0.007477</td>\n",
       "      <td>9740</td>\n",
       "      <td>13900</td>\n",
       "      <td>6380</td>\n",
       "      <td>1199.0</td>\n",
       "    </tr>\n",
       "    <tr>\n",
       "      <th>2013-09-01</th>\n",
       "      <td>Studio</td>\n",
       "      <td>2013</td>\n",
       "      <td>9</td>\n",
       "      <td>2013</td>\n",
       "      <td>09</td>\n",
       "      <td>430100.0</td>\n",
       "      <td>42</td>\n",
       "      <td>27</td>\n",
       "      <td>27</td>\n",
       "      <td>1.007275</td>\n",
       "      <td>...</td>\n",
       "      <td>0.262243</td>\n",
       "      <td>0.024914</td>\n",
       "      <td>0.017092</td>\n",
       "      <td>0.404790</td>\n",
       "      <td>0.073044</td>\n",
       "      <td>0.041376</td>\n",
       "      <td>4420</td>\n",
       "      <td>7230</td>\n",
       "      <td>3030</td>\n",
       "      <td>1231.0</td>\n",
       "    </tr>\n",
       "    <tr>\n",
       "      <th>2013-10-01</th>\n",
       "      <td>Studio</td>\n",
       "      <td>2013</td>\n",
       "      <td>10</td>\n",
       "      <td>2013</td>\n",
       "      <td>10</td>\n",
       "      <td>424600.0</td>\n",
       "      <td>40</td>\n",
       "      <td>27</td>\n",
       "      <td>26</td>\n",
       "      <td>1.014734</td>\n",
       "      <td>...</td>\n",
       "      <td>0.267216</td>\n",
       "      <td>0.004972</td>\n",
       "      <td>0.025687</td>\n",
       "      <td>0.453044</td>\n",
       "      <td>0.048254</td>\n",
       "      <td>0.043381</td>\n",
       "      <td>10400</td>\n",
       "      <td>14800</td>\n",
       "      <td>6720</td>\n",
       "      <td>1180.0</td>\n",
       "    </tr>\n",
       "    <tr>\n",
       "      <th>2013-11-01</th>\n",
       "      <td>Studio</td>\n",
       "      <td>2013</td>\n",
       "      <td>11</td>\n",
       "      <td>2013</td>\n",
       "      <td>11</td>\n",
       "      <td>424900.0</td>\n",
       "      <td>46</td>\n",
       "      <td>27</td>\n",
       "      <td>28</td>\n",
       "      <td>1.014332</td>\n",
       "      <td>...</td>\n",
       "      <td>0.277221</td>\n",
       "      <td>0.010006</td>\n",
       "      <td>0.012604</td>\n",
       "      <td>0.439771</td>\n",
       "      <td>-0.013274</td>\n",
       "      <td>-0.013229</td>\n",
       "      <td>10500</td>\n",
       "      <td>15900</td>\n",
       "      <td>7070</td>\n",
       "      <td>1205.0</td>\n",
       "    </tr>\n",
       "  </tbody>\n",
       "</table>\n",
       "<p>5 rows × 50 columns</p>\n",
       "</div>"
      ],
      "text/plain": [
       "           BedSize  Year  Month Shift_Year Shift_Month  Zillow_Housing_price  \\\n",
       "Date                                                                           \n",
       "2013-07-01  Studio  2013      7       2013          07              430600.0   \n",
       "2013-08-01  Studio  2013      8       2013          08              435300.0   \n",
       "2013-09-01  Studio  2013      9       2013          09              430100.0   \n",
       "2013-10-01  Studio  2013     10       2013          10              424600.0   \n",
       "2013-11-01  Studio  2013     11       2013          11              424900.0   \n",
       "\n",
       "            Search_Count_SeattleRent  Search_Count_SeattleHousing  \\\n",
       "Date                                                                \n",
       "2013-07-01                        40                           25   \n",
       "2013-08-01                        37                           23   \n",
       "2013-09-01                        42                           27   \n",
       "2013-10-01                        40                           27   \n",
       "2013-11-01                        46                           27   \n",
       "\n",
       "            Search_Count_seattleApartment  AvgSaleToList  \\\n",
       "Date                                                       \n",
       "2013-07-01                             22       0.990675   \n",
       "2013-08-01                             24       1.003360   \n",
       "2013-09-01                             27       1.007275   \n",
       "2013-10-01                             26       1.014734   \n",
       "2013-11-01                             28       1.014332   \n",
       "\n",
       "                    ...            PriceDrops  PriceDropsMom  PriceDropsYoy  \\\n",
       "Date                ...                                                       \n",
       "2013-07-01          ...              0.249802       0.039606       0.037088   \n",
       "2013-08-01          ...              0.237329      -0.012473       0.044360   \n",
       "2013-09-01          ...              0.262243       0.024914       0.017092   \n",
       "2013-10-01          ...              0.267216       0.004972       0.025687   \n",
       "2013-11-01          ...              0.277221       0.010006       0.012604   \n",
       "\n",
       "            SoldAboveList  SoldAboveListMom  SoldAboveListYoy  \\\n",
       "Date                                                            \n",
       "2013-07-01       0.277174          0.021826          0.032856   \n",
       "2013-08-01       0.331746          0.054572         -0.007477   \n",
       "2013-09-01       0.404790          0.073044          0.041376   \n",
       "2013-10-01       0.453044          0.048254          0.043381   \n",
       "2013-11-01       0.439771         -0.013274         -0.013229   \n",
       "\n",
       "            count_news_seattle+shooting  count_news_seattle+murder  \\\n",
       "Date                                                                 \n",
       "2013-07-01                         8170                      10900   \n",
       "2013-08-01                         9740                      13900   \n",
       "2013-09-01                         4420                       7230   \n",
       "2013-10-01                        10400                      14800   \n",
       "2013-11-01                        10500                      15900   \n",
       "\n",
       "            count_news_seattle+dead+shooting  target_Apartment_rent  \n",
       "Date                                                                 \n",
       "2013-07-01                              5460                 1188.0  \n",
       "2013-08-01                              6380                 1199.0  \n",
       "2013-09-01                              3030                 1231.0  \n",
       "2013-10-01                              6720                 1180.0  \n",
       "2013-11-01                              7070                 1205.0  \n",
       "\n",
       "[5 rows x 50 columns]"
      ]
     },
     "execution_count": 529,
     "metadata": {},
     "output_type": "execute_result"
    }
   ],
   "source": [
    "studio_df.head()"
   ]
  },
  {
   "cell_type": "code",
   "execution_count": null,
   "metadata": {},
   "outputs": [],
   "source": []
  },
  {
   "cell_type": "code",
   "execution_count": 550,
   "metadata": {},
   "outputs": [
    {
     "ename": "SyntaxError",
     "evalue": "invalid syntax (<ipython-input-550-a4492de10c11>, line 8)",
     "output_type": "error",
     "traceback": [
      "\u001b[0;36m  File \u001b[0;32m\"<ipython-input-550-a4492de10c11>\"\u001b[0;36m, line \u001b[0;32m8\u001b[0m\n\u001b[0;31m    , 'count_news_seattle+shooting', 'MedianPpsf', 'count_news_seattle+murder']\u001b[0m\n\u001b[0m    ^\u001b[0m\n\u001b[0;31mSyntaxError\u001b[0m\u001b[0;31m:\u001b[0m invalid syntax\n"
     ]
    }
   ],
   "source": [
    "def createBedSizeDT(bedSize_df, cutoffDate):\n",
    "    bedSize_df['SinMonth'] = np.sin(-2*np.pi* (bedSize_df['Month']* bedSize_df['Month'])) \n",
    "    bedSize_past_df = bedSize_df[bedSize_df.index < cutoffDate]\n",
    "    bedSize_predict_df = bedSize_df[bedSize_df.index >=  cutoffDate]\n",
    "    selectColumns = [ 'Year', 'Month', 'Zillow_Housing_price', 'MedianSalePrice'\n",
    "                      'count_news_seattle+shooting', 'PriceDropsMom', 'NewListingsMom'\n",
    "                       'count_news_seattle+murder', 'count_news_seattle+dead+shooting',\n",
    "                     , 'count_news_seattle+shooting', 'MedianPpsf', 'count_news_seattle+murder']\n",
    "    X = bedSize_past_df.loc[:,selectColumns]\n",
    "    #X = studio_past_df.iloc[:,1:-10]\n",
    "    y = bedSize_past_df.loc[:,['target_Apartment_rent']]\n",
    "    X['Intercept'] = 1  \n",
    "\n",
    "    ployCount = 1\n",
    "    poly = PolynomialFeatures(ployCount)\n",
    "    x_poly = poly.fit_transform(X)\n",
    "    X_transfer = pd.DataFrame(x_poly)\n",
    "    X_transfer.columns = poly.get_feature_names()\n",
    "\n",
    "    #X_transfer = X\n",
    "\n",
    "    X_predict_model = bedSize_predict_df.loc[:,selectColumns]\n",
    "    #X_predict_model = studio_predict_df.iloc[:,1:-10]\n",
    "    y_predict_model = bedSize_predict_df.loc[:,['target_Apartment_rent']]\n",
    "    X_predict_model['Intercept'] = 1   \n",
    "\n",
    "    X_predict_model_ploy = poly.fit_transform(X_predict_model)\n",
    "    X_predict_model_transfer = pd.DataFrame(X_predict_model_ploy)\n",
    "    X_predict_model_transfer.columns = poly.get_feature_names()\n",
    "\n",
    "    #X_predict_model_transfer = y_predict_model\n",
    "    return X_transfer,y, X_predict_model_transfer, y_predict_model\n"
   ]
  },
  {
   "cell_type": "code",
   "execution_count": 551,
   "metadata": {},
   "outputs": [],
   "source": [
    "def CreateLinearRegress(ModelType, X_train_a, y_train_b, X_test_a, y_test_b):\n",
    "    listy = [1e-9,1e-8,1e-7]\n",
    "    print(ModelType)\n",
    "    if ModelType == 1:\n",
    "        model = LinearRegression(normalize = True)\n",
    "    elif ModelType == 2:\n",
    "        model = ElasticNetCV(l1_ratio = [.1, .5, .7, .9, .95, .99, 1], alphas = listy, cv=4, random_state = 30, normalize = True)\n",
    "    elif ModelType == 3:\n",
    "        model = LassoCV(alphas = listy, cv=4, random_state = 30, normalize = True)       \n",
    "    model.fit(X_train, y_train)\n",
    "    \n",
    "\n",
    "    r_train_score = model.score(X_train_a, y_train_b)\n",
    "    y_predict_train = model.predict(X_train_a)\n",
    "    print (getRMSAndMSE(y_predict_train, y_train_b))\n",
    "\n",
    "    y_predict_model_new = model.predict(X_test_a)\n",
    "    r_test_score = model.score(X_predict_model_transfer, y_test_b)\n",
    "    print (getRMSAndMSE(y_test_b, y_predict_model_new))\n",
    "    if ModelType == 1:\n",
    "        plt.scatter(y_test_b, (y_test_b-y_predict_model_new))\n",
    "    elif ModelType != 1:\n",
    "        plt.scatter(y_test_b, (y_test_b['target_Apartment_rent']-y_predict_model_new))\n",
    "\n",
    "    plotPredict(y_train_b,y_predict_train,  y_test_b, y_predict_model_new)\n",
    "    return r_train_score, r_test_score"
   ]
  },
  {
   "cell_type": "code",
   "execution_count": null,
   "metadata": {},
   "outputs": [],
   "source": []
  },
  {
   "cell_type": "markdown",
   "metadata": {},
   "source": [
    "# Linear Regression"
   ]
  },
  {
   "cell_type": "code",
   "execution_count": null,
   "metadata": {},
   "outputs": [],
   "source": []
  },
  {
   "cell_type": "code",
   "execution_count": 552,
   "metadata": {},
   "outputs": [
    {
     "data": {
      "text/plain": [
       "<matplotlib.axes._subplots.AxesSubplot at 0x113336438>"
      ]
     },
     "execution_count": 552,
     "metadata": {},
     "output_type": "execute_result"
    },
    {
     "data": {
      "image/png": "[encoded data removed]",
      "text/plain": [
       "<matplotlib.figure.Figure at 0x118255da0>"
      ]
     },
     "metadata": {},
     "output_type": "display_data"
    }
   ],
   "source": [
    "studio_df['target_Apartment_rent'].hist()"
   ]
  },
  {
   "cell_type": "code",
   "execution_count": 553,
   "metadata": {},
   "outputs": [],
   "source": [
    "# studio_df['Month'] = np.sin(studio_df['Month'])*studio_df['Month']\n",
    "# studio_df['Month'].head()"
   ]
  },
  {
   "cell_type": "code",
   "execution_count": 554,
   "metadata": {},
   "outputs": [
    {
     "data": {
      "text/plain": [
       "<matplotlib.axes._subplots.AxesSubplot at 0x118d41128>"
      ]
     },
     "execution_count": 554,
     "metadata": {},
     "output_type": "execute_result"
    },
    {
     "data": {
      "image/png": "[encoded data removed]",
      "text/plain": [
       "<matplotlib.figure.Figure at 0x11332a828>"
      ]
     },
     "metadata": {},
     "output_type": "display_data"
    }
   ],
   "source": [
    "# studio_df['target_Apartment_rent'] = np.log(studio_df['target_Apartment_rent'])\n",
    "mask = (studio_df.index > start_date) & (studio_df.index < end_date)\n",
    "studio_df = studio_df[mask]\n",
    "studio_df.index\n",
    "studio_df['target_Apartment_rent'].hist()"
   ]
  },
  {
   "cell_type": "code",
   "execution_count": 555,
   "metadata": {},
   "outputs": [
    {
     "data": {
      "text/plain": [
       "((29, 9), (29, 1), (12, 9), (12, 1))"
      ]
     },
     "execution_count": 555,
     "metadata": {},
     "output_type": "execute_result"
    }
   ],
   "source": [
    "X_transfer,y, X_predict_model_transfer, y_predict_model = createBedSizeDT(studio_df, cutoff_date)\n",
    "X_transfer.shape,y.shape, X_predict_model_transfer.shape, y_predict_model.shape"
   ]
  },
  {
   "cell_type": "code",
   "execution_count": 556,
   "metadata": {},
   "outputs": [],
   "source": [
    "X_train, X_test, y_train, y_test = train_test_split(X_transfer, y, test_size=0)"
   ]
  },
  {
   "cell_type": "code",
   "execution_count": 557,
   "metadata": {},
   "outputs": [
    {
     "data": {
      "text/plain": [
       "((29, 9), (29, 1), (12, 9), (12, 1))"
      ]
     },
     "execution_count": 557,
     "metadata": {},
     "output_type": "execute_result"
    }
   ],
   "source": [
    "X_train.shape, y_train.shape, X_predict_model_transfer.shape, y_predict_model.shape"
   ]
  },
  {
   "cell_type": "code",
   "execution_count": 558,
   "metadata": {},
   "outputs": [
    {
     "name": "stdout",
     "output_type": "stream",
     "text": [
      "1\n",
      "{'mse': 802.1628986786204, 'rmse': 28.322480447139874}\n",
      "{'mse': 43938.376292182365, 'rmse': 209.6148284167472}\n"
     ]
    },
    {
     "name": "stderr",
     "output_type": "stream",
     "text": [
      "/Library/Frameworks/Python.framework/Versions/3.6/lib/python3.6/site-packages/ipykernel_launcher.py:3: SettingWithCopyWarning: \n",
      "A value is trying to be set on a copy of a slice from a DataFrame.\n",
      "Try using .loc[row_indexer,col_indexer] = value instead\n",
      "\n",
      "See the caveats in the documentation: http://pandas.pydata.org/pandas-docs/stable/indexing.html#indexing-view-versus-copy\n",
      "  This is separate from the ipykernel package so we can avoid doing imports until\n",
      "/Library/Frameworks/Python.framework/Versions/3.6/lib/python3.6/site-packages/ipykernel_launcher.py:7: SettingWithCopyWarning: \n",
      "A value is trying to be set on a copy of a slice from a DataFrame.\n",
      "Try using .loc[row_indexer,col_indexer] = value instead\n",
      "\n",
      "See the caveats in the documentation: http://pandas.pydata.org/pandas-docs/stable/indexing.html#indexing-view-versus-copy\n",
      "  import sys\n"
     ]
    },
    {
     "data": {
      "text/plain": [
       "(0.8648698161124044, -14.397961182371088)"
      ]
     },
     "execution_count": 558,
     "metadata": {},
     "output_type": "execute_result"
    },
    {
     "data": {
      "image/png": "[encoded data removed]",
      "text/plain": [
       "<matplotlib.figure.Figure at 0x118d6a550>"
      ]
     },
     "metadata": {},
     "output_type": "display_data"
    },
    {
     "data": {
      "image/png": "[encoded data removed]",
      "text/plain": [
       "<matplotlib.figure.Figure at 0x115ea0630>"
      ]
     },
     "metadata": {},
     "output_type": "display_data"
    }
   ],
   "source": [
    "CreateLinearRegress(1, X_train, y_train, X_predict_model_transfer, y_predict_model )\n"
   ]
  },
  {
   "cell_type": "markdown",
   "metadata": {},
   "source": [
    "# ElasticNetCV"
   ]
  },
  {
   "cell_type": "code",
   "execution_count": 559,
   "metadata": {},
   "outputs": [
    {
     "name": "stdout",
     "output_type": "stream",
     "text": [
      "2\n",
      "{'mse': 802.163042224791, 'rmse': 28.32248298127816}\n",
      "{'mse': 43890.007627646206, 'rmse': 209.49942154489642}\n"
     ]
    },
    {
     "name": "stderr",
     "output_type": "stream",
     "text": [
      "/Library/Frameworks/Python.framework/Versions/3.6/lib/python3.6/site-packages/sklearn/linear_model/coordinate_descent.py:1094: DataConversionWarning: A column-vector y was passed when a 1d array was expected. Please change the shape of y to (n_samples, ), for example using ravel().\n",
      "  y = column_or_1d(y, warn=True)\n",
      "/Library/Frameworks/Python.framework/Versions/3.6/lib/python3.6/site-packages/sklearn/linear_model/coordinate_descent.py:491: ConvergenceWarning: Objective did not converge. You might want to increase the number of iterations. Fitting data with very small alpha may cause precision problems.\n",
      "  ConvergenceWarning)\n",
      "/Library/Frameworks/Python.framework/Versions/3.6/lib/python3.6/site-packages/sklearn/linear_model/coordinate_descent.py:491: ConvergenceWarning: Objective did not converge. You might want to increase the number of iterations. Fitting data with very small alpha may cause precision problems.\n",
      "  ConvergenceWarning)\n",
      "/Library/Frameworks/Python.framework/Versions/3.6/lib/python3.6/site-packages/ipykernel_launcher.py:3: SettingWithCopyWarning: \n",
      "A value is trying to be set on a copy of a slice from a DataFrame.\n",
      "Try using .loc[row_indexer,col_indexer] = value instead\n",
      "\n",
      "See the caveats in the documentation: http://pandas.pydata.org/pandas-docs/stable/indexing.html#indexing-view-versus-copy\n",
      "  This is separate from the ipykernel package so we can avoid doing imports until\n",
      "/Library/Frameworks/Python.framework/Versions/3.6/lib/python3.6/site-packages/ipykernel_launcher.py:7: SettingWithCopyWarning: \n",
      "A value is trying to be set on a copy of a slice from a DataFrame.\n",
      "Try using .loc[row_indexer,col_indexer] = value instead\n",
      "\n",
      "See the caveats in the documentation: http://pandas.pydata.org/pandas-docs/stable/indexing.html#indexing-view-versus-copy\n",
      "  import sys\n"
     ]
    },
    {
     "data": {
      "text/plain": [
       "(0.8648697919310063, -14.381010651153952)"
      ]
     },
     "execution_count": 559,
     "metadata": {},
     "output_type": "execute_result"
    },
    {
     "data": {
      "image/png": "[encoded data removed]",
      "text/plain": [
       "<matplotlib.figure.Figure at 0x11709b1d0>"
      ]
     },
     "metadata": {},
     "output_type": "display_data"
    },
    {
     "data": {
      "image/png": "[encoded data removed]",
      "text/plain": [
       "<matplotlib.figure.Figure at 0x11815b630>"
      ]
     },
     "metadata": {},
     "output_type": "display_data"
    }
   ],
   "source": [
    "CreateLinearRegress(2, X_train, y_train, X_predict_model_transfer, y_predict_model )"
   ]
  },
  {
   "cell_type": "markdown",
   "metadata": {},
   "source": [
    "# LassoCV"
   ]
  },
  {
   "cell_type": "code",
   "execution_count": null,
   "metadata": {},
   "outputs": [
    {
     "name": "stdout",
     "output_type": "stream",
     "text": [
      "3\n",
      "{'mse': 802.1628987847524, 'rmse': 28.322480449013508}\n",
      "{'mse': 43937.15667924326, 'rmse': 209.61191922036127}\n"
     ]
    },
    {
     "name": "stderr",
     "output_type": "stream",
     "text": [
      "/Library/Frameworks/Python.framework/Versions/3.6/lib/python3.6/site-packages/sklearn/linear_model/coordinate_descent.py:1094: DataConversionWarning: A column-vector y was passed when a 1d array was expected. Please change the shape of y to (n_samples, ), for example using ravel().\n",
      "  y = column_or_1d(y, warn=True)\n",
      "/Library/Frameworks/Python.framework/Versions/3.6/lib/python3.6/site-packages/sklearn/linear_model/coordinate_descent.py:491: ConvergenceWarning: Objective did not converge. You might want to increase the number of iterations. Fitting data with very small alpha may cause precision problems.\n",
      "  ConvergenceWarning)\n",
      "/Library/Frameworks/Python.framework/Versions/3.6/lib/python3.6/site-packages/sklearn/linear_model/coordinate_descent.py:491: ConvergenceWarning: Objective did not converge. You might want to increase the number of iterations. Fitting data with very small alpha may cause precision problems.\n",
      "  ConvergenceWarning)\n",
      "/Library/Frameworks/Python.framework/Versions/3.6/lib/python3.6/site-packages/ipykernel_launcher.py:3: SettingWithCopyWarning: \n",
      "A value is trying to be set on a copy of a slice from a DataFrame.\n",
      "Try using .loc[row_indexer,col_indexer] = value instead\n",
      "\n",
      "See the caveats in the documentation: http://pandas.pydata.org/pandas-docs/stable/indexing.html#indexing-view-versus-copy\n",
      "  This is separate from the ipykernel package so we can avoid doing imports until\n",
      "/Library/Frameworks/Python.framework/Versions/3.6/lib/python3.6/site-packages/ipykernel_launcher.py:7: SettingWithCopyWarning: \n",
      "A value is trying to be set on a copy of a slice from a DataFrame.\n",
      "Try using .loc[row_indexer,col_indexer] = value instead\n",
      "\n",
      "See the caveats in the documentation: http://pandas.pydata.org/pandas-docs/stable/indexing.html#indexing-view-versus-copy\n",
      "  import sys\n"
     ]
    },
    {
     "data": {
      "text/plain": [
       "(0.8648698160945258, -14.397533775755763)"
      ]
     },
     "execution_count": 560,
     "metadata": {},
     "output_type": "execute_result"
    }
   ],
   "source": [
    "CreateLinearRegress(3, X_train, y_train, X_predict_model_transfer, y_predict_model )"
   ]
  },
  {
   "cell_type": "code",
   "execution_count": null,
   "metadata": {},
   "outputs": [],
   "source": []
  },
  {
   "cell_type": "markdown",
   "metadata": {},
   "source": [
    "# One Bed"
   ]
  },
  {
   "cell_type": "markdown",
   "metadata": {},
   "source": []
  },
  {
   "cell_type": "code",
   "execution_count": null,
   "metadata": {},
   "outputs": [],
   "source": [
    "oneBed_df['target_Apartment_rent'].hist()"
   ]
  },
  {
   "cell_type": "code",
   "execution_count": null,
   "metadata": {},
   "outputs": [],
   "source": [
    "#oneBed_df['target_Apartment_rent'] = np.log(oneBed_df['target_Apartment_rent'])\n",
    "mask = (oneBed_df.index > start_date) & (oneBed_df.index < end_date)\n",
    "oneBed_df = oneBed_df[mask]\n",
    "oneBed_df.index\n",
    "oneBed_df['target_Apartment_rent'].hist()"
   ]
  },
  {
   "cell_type": "code",
   "execution_count": null,
   "metadata": {},
   "outputs": [],
   "source": [
    "oneBed_df.groupby(['Month'])['target_Apartment_rent'].mean().plot()"
   ]
  },
  {
   "cell_type": "code",
   "execution_count": null,
   "metadata": {},
   "outputs": [],
   "source": [
    "oneBed_df.columns"
   ]
  },
  {
   "cell_type": "code",
   "execution_count": null,
   "metadata": {},
   "outputs": [],
   "source": [
    "X_transfer,y, X_predict_model_transfer, y_predict_model = createBedSizeDT(oneBed_df, cutoff_date)\n",
    "X_transfer.shape,y.shape, X_predict_model_transfer.shape, y_predict_model.shape\n"
   ]
  },
  {
   "cell_type": "code",
   "execution_count": null,
   "metadata": {},
   "outputs": [],
   "source": [
    "X_train, X_test, y_train, y_test = train_test_split(X_transfer, y, test_size=0)"
   ]
  },
  {
   "cell_type": "code",
   "execution_count": null,
   "metadata": {},
   "outputs": [],
   "source": [
    "CreateLinearRegress(1, X_train, y_train, X_predict_model_transfer, y_predict_model )"
   ]
  },
  {
   "cell_type": "code",
   "execution_count": null,
   "metadata": {},
   "outputs": [],
   "source": [
    "#LassoCV\n",
    "CreateLinearRegress(3, X_train, y_train, X_predict_model_transfer, y_predict_model )"
   ]
  },
  {
   "cell_type": "code",
   "execution_count": null,
   "metadata": {},
   "outputs": [],
   "source": [
    "#ElasticNetCV\n",
    "CreateLinearRegress(2, X_train, y_train, X_predict_model_transfer, y_predict_model )"
   ]
  },
  {
   "cell_type": "code",
   "execution_count": null,
   "metadata": {},
   "outputs": [],
   "source": []
  },
  {
   "cell_type": "code",
   "execution_count": null,
   "metadata": {},
   "outputs": [],
   "source": []
  },
  {
   "cell_type": "code",
   "execution_count": null,
   "metadata": {},
   "outputs": [],
   "source": []
  },
  {
   "cell_type": "code",
   "execution_count": null,
   "metadata": {},
   "outputs": [],
   "source": []
  },
  {
   "cell_type": "code",
   "execution_count": null,
   "metadata": {},
   "outputs": [],
   "source": []
  },
  {
   "cell_type": "code",
   "execution_count": null,
   "metadata": {},
   "outputs": [],
   "source": []
  },
  {
   "cell_type": "code",
   "execution_count": null,
   "metadata": {},
   "outputs": [],
   "source": []
  }
 ],
 "metadata": {
  "kernelspec": {
   "display_name": "Python 3",
   "language": "python",
   "name": "python3"
  },
  "language_info": {
   "codemirror_mode": {
    "name": "ipython",
    "version": 3
   },
   "file_extension": ".py",
   "mimetype": "text/x-python",
   "name": "python",
   "nbconvert_exporter": "python",
   "pygments_lexer": "ipython3",
   "version": "3.6.1"
  }
 },
 "nbformat": 4,
 "nbformat_minor": 2
}
