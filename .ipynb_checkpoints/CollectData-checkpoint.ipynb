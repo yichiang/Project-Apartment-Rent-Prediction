{
 "cells": [
  {
   "cell_type": "code",
   "execution_count": 32,
   "metadata": {},
   "outputs": [],
   "source": [
    "from selenium import webdriver\n",
    "from selenium.webdriver.common.keys import Keys\n",
    "from datetime import datetime\n",
    "import time\n",
    "import re\n",
    "import os\n"
   ]
  },
  {
   "cell_type": "code",
   "execution_count": 33,
   "metadata": {},
   "outputs": [],
   "source": [
    "search_terms = ['news:+seattle+shooting', 'news:+seattle+murder']\n",
    "basicUrl = 'https://www.google.com/search?q={0}&rlz=1C5CHFA_enUS722US722&biw=1152&bih=575&source=lnt&tbs=cdr%3A1%2Ccd_min%3A{1}%2Ccd_max%3A{2}&tbm=nws'\n",
    "now = datetime.now()\n",
    "year = now.year\n",
    "\n",
    "def getUrl(term, year):\n",
    "    starting_day_of_year = now.date().replace(year=year, month=1, day=1).strftime('%m/%d/%Y')    \n",
    "    ending_day_of_year = now.date().replace(year=year, month=12, day=31).strftime('%m/%d/%Y')\n",
    "    search_Url = basicUrl.format(term, starting_day_of_year, ending_day_of_year)\n",
    "    print(ending_day_of_year)\n",
    "    return search_Url"
   ]
  },
  {
   "cell_type": "code",
   "execution_count": 38,
   "metadata": {},
   "outputs": [],
   "source": [
    "def GetCountFromGoogle(driverm, url):\n",
    "    driver.get(url)\n",
    "    btn_el = driver.find_element_by_id(\"hdtb-rst\")\n",
    "    btn_el.click()\n",
    "    el =  driver.find_element_by_id(\"resultStats\")\n",
    "    return el.text"
   ]
  },
  {
   "cell_type": "code",
   "execution_count": 39,
   "metadata": {},
   "outputs": [],
   "source": [
    "def runScrapping(driver, total_years=5):\n",
    "    result = [None]*(total_years*len(search_terms))\n",
    "    currentCount = 0\n",
    "    for term in search_terms:\n",
    "        for yearInd in range(0, total_years):\n",
    "            url = getUrl(term, year-yearInd)\n",
    "            temp_count = GetCountFromGoogle(driver, url);\n",
    "            temp = {'year':year-yearInd, 'term': term, 'count': temp_count }\n",
    "            result[currentCount]=temp\n",
    "            currentCount+=1\n",
    "    return result"
   ]
  },
  {
   "cell_type": "code",
   "execution_count": 40,
   "metadata": {},
   "outputs": [
    {
     "name": "stdout",
     "output_type": "stream",
     "text": [
      "12/31/2018\n",
      "12/31/2018\n"
     ]
    },
    {
     "data": {
      "text/plain": [
       "[{'year': 2018, 'term': 'news:+seattle+shooting', 'count': ''},\n",
       " {'year': 2018, 'term': 'news:+seattle+murder', 'count': ''}]"
      ]
     },
     "execution_count": 40,
     "metadata": {},
     "output_type": "execute_result"
    }
   ],
   "source": [
    "\n",
    "chromedriver = \"/Users/yichiang/chromedriver\" # path to the chromedriver executable\n",
    "os.environ[\"webdriver.chrome.driver\"] = chromedriver\n",
    "\n",
    "driver = webdriver.Chrome(chromedriver)\n",
    "result_scrapping = runScrapping(driver, 1)\n",
    "driver.quit()\n",
    "result_scrapping"
   ]
  },
  {
   "cell_type": "code",
   "execution_count": null,
   "metadata": {},
   "outputs": [],
   "source": []
  },
  {
   "cell_type": "code",
   "execution_count": null,
   "metadata": {},
   "outputs": [],
   "source": []
  }
 ],
 "metadata": {
  "kernelspec": {
   "display_name": "Python 3",
   "language": "python",
   "name": "python3"
  },
  "language_info": {
   "codemirror_mode": {
    "name": "ipython",
    "version": 3
   },
   "file_extension": ".py",
   "mimetype": "text/x-python",
   "name": "python",
   "nbconvert_exporter": "python",
   "pygments_lexer": "ipython3",
   "version": "3.6.1"
  }
 },
 "nbformat": 4,
 "nbformat_minor": 2
}
