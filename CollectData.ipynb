{
 "cells": [
  {
   "cell_type": "code",
   "execution_count": 24,
   "metadata": {},
   "outputs": [],
   "source": [
    "from selenium import webdriver\n",
    "from selenium.webdriver.common.keys import Keys\n",
    "from datetime import datetime\n",
    "import time\n",
    "import re\n",
    "import os\n",
    "import pickle"
   ]
  },
  {
   "cell_type": "code",
   "execution_count": 25,
   "metadata": {},
   "outputs": [],
   "source": [
    "search_terms = ['news:+seattle+shooting', 'news:+seattle+murder', 'news:+seattle+dead+shooting']\n",
    "basicUrl = 'https://www.google.com/search?q={0}&rlz=1C5CHFA_enUS722US722&biw=1152&bih=575&source=lnt&tbs=cdr%3A1%2Ccd_min%3A{1}%2Ccd_max%3A{2}&tbm=nws'\n",
    "now = datetime.now()\n",
    "year = now.year\n",
    "\n",
    "def getUrl(term, year):\n",
    "    starting_day_of_year = now.date().replace(year=year, month=1, day=1).strftime('%m/%d/%Y')    \n",
    "    ending_day_of_year = now.date().replace(year=year, month=12, day=31).strftime('%m/%d/%Y')\n",
    "    search_Url = basicUrl.format(term, starting_day_of_year, ending_day_of_year)\n",
    "    print(ending_day_of_year)\n",
    "    return search_Url"
   ]
  },
  {
   "cell_type": "code",
   "execution_count": 38,
   "metadata": {},
   "outputs": [],
   "source": [
    "def GetCountFromGoogle(driverm, url):\n",
    "    driver.get(url)\n",
    "    time.sleep(5)\n",
    "    btn_el = driver.find_element_by_id(\"hdtb-tls\")\n",
    "    btn_el.click()\n",
    "    time.sleep(5)\n",
    "    el =  driver.find_element_by_id(\"resultStats\")\n",
    "    print(el.text)\n",
    "    return ParseText(el.text)"
   ]
  },
  {
   "cell_type": "code",
   "execution_count": 39,
   "metadata": {},
   "outputs": [],
   "source": [
    "def ParseText(test_Str):\n",
    "    import re\n",
    "    m = re.search('About (.+?) results', test_Str)\n",
    "    if m:\n",
    "        found = m.group(1)\n",
    "        found = found.replace(',', '')\n",
    "        return found"
   ]
  },
  {
   "cell_type": "code",
   "execution_count": 40,
   "metadata": {},
   "outputs": [],
   "source": [
    "def runScrapping(driver, total_years=5):\n",
    "    result = [None]*(total_years*len(search_terms))\n",
    "    currentCount = 0\n",
    "    for term in search_terms:\n",
    "        for yearInd in range(0, total_years):\n",
    "            url = getUrl(term, year-yearInd)\n",
    "            temp_count = GetCountFromGoogle(driver, url);\n",
    "            temp = {'year':year-yearInd, 'term': term, 'count': temp_count }\n",
    "            result[currentCount]=temp\n",
    "            currentCount+=1\n",
    "    return result"
   ]
  },
  {
   "cell_type": "code",
   "execution_count": 42,
   "metadata": {},
   "outputs": [
    {
     "name": "stdout",
     "output_type": "stream",
     "text": [
      "12/31/2018\n",
      "About 189,000 results (0.15 seconds) \n",
      "12/31/2017\n",
      "About 179,000 results (0.23 seconds) \n",
      "12/31/2016\n",
      "About 78,400 results (0.18 seconds) \n",
      "12/31/2015\n",
      "About 76,400 results (0.16 seconds) \n",
      "12/31/2014\n",
      "About 51,200 results (0.25 seconds) \n",
      "12/31/2018\n",
      "About 115,000 results (0.14 seconds) \n",
      "12/31/2017\n",
      "About 250,000 results (0.15 seconds) \n",
      "12/31/2016\n",
      "About 137,000 results (0.16 seconds) \n",
      "12/31/2015\n",
      "About 110,000 results (0.23 seconds) \n",
      "12/31/2014\n",
      "About 82,600 results (0.19 seconds) \n",
      "12/31/2018\n",
      "About 57,100 results (0.19 seconds) \n",
      "12/31/2017\n",
      "About 60,700 results (0.16 seconds) \n",
      "12/31/2016\n",
      "About 47,800 results (0.26 seconds) \n",
      "12/31/2015\n",
      "About 46,900 results (0.15 seconds) \n",
      "12/31/2014\n",
      "About 34,900 results (0.15 seconds) \n"
     ]
    },
    {
     "data": {
      "text/plain": [
       "[{'year': 2018, 'term': 'news:+seattle+shooting', 'count': '189000'},\n",
       " {'year': 2017, 'term': 'news:+seattle+shooting', 'count': '179000'},\n",
       " {'year': 2016, 'term': 'news:+seattle+shooting', 'count': '78400'},\n",
       " {'year': 2015, 'term': 'news:+seattle+shooting', 'count': '76400'},\n",
       " {'year': 2014, 'term': 'news:+seattle+shooting', 'count': '51200'},\n",
       " {'year': 2018, 'term': 'news:+seattle+murder', 'count': '115000'},\n",
       " {'year': 2017, 'term': 'news:+seattle+murder', 'count': '250000'},\n",
       " {'year': 2016, 'term': 'news:+seattle+murder', 'count': '137000'},\n",
       " {'year': 2015, 'term': 'news:+seattle+murder', 'count': '110000'},\n",
       " {'year': 2014, 'term': 'news:+seattle+murder', 'count': '82600'},\n",
       " {'year': 2018, 'term': 'news:+seattle+dead+shooting', 'count': '57100'},\n",
       " {'year': 2017, 'term': 'news:+seattle+dead+shooting', 'count': '60700'},\n",
       " {'year': 2016, 'term': 'news:+seattle+dead+shooting', 'count': '47800'},\n",
       " {'year': 2015, 'term': 'news:+seattle+dead+shooting', 'count': '46900'},\n",
       " {'year': 2014, 'term': 'news:+seattle+dead+shooting', 'count': '34900'}]"
      ]
     },
     "execution_count": 42,
     "metadata": {},
     "output_type": "execute_result"
    }
   ],
   "source": [
    "\n",
    "chromedriver = \"/Users/yichiang/chromedriver\" # path to the chromedriver executable\n",
    "os.environ[\"webdriver.chrome.driver\"] = chromedriver\n",
    "\n",
    "driver = webdriver.Chrome(chromedriver)\n",
    "result_scrapping = runScrapping(driver, 5)\n",
    "driver.quit()\n",
    "result_scrapping"
   ]
  },
  {
   "cell_type": "code",
   "execution_count": 43,
   "metadata": {},
   "outputs": [
    {
     "data": {
      "text/plain": [
       "[{'year': 2018, 'term': 'news:+seattle+shooting', 'count': '189000'},\n",
       " {'year': 2017, 'term': 'news:+seattle+shooting', 'count': '179000'},\n",
       " {'year': 2016, 'term': 'news:+seattle+shooting', 'count': '78400'},\n",
       " {'year': 2015, 'term': 'news:+seattle+shooting', 'count': '76400'},\n",
       " {'year': 2014, 'term': 'news:+seattle+shooting', 'count': '51200'},\n",
       " {'year': 2018, 'term': 'news:+seattle+murder', 'count': '115000'},\n",
       " {'year': 2017, 'term': 'news:+seattle+murder', 'count': '250000'},\n",
       " {'year': 2016, 'term': 'news:+seattle+murder', 'count': '137000'},\n",
       " {'year': 2015, 'term': 'news:+seattle+murder', 'count': '110000'},\n",
       " {'year': 2014, 'term': 'news:+seattle+murder', 'count': '82600'},\n",
       " {'year': 2018, 'term': 'news:+seattle+dead+shooting', 'count': '57100'},\n",
       " {'year': 2017, 'term': 'news:+seattle+dead+shooting', 'count': '60700'},\n",
       " {'year': 2016, 'term': 'news:+seattle+dead+shooting', 'count': '47800'},\n",
       " {'year': 2015, 'term': 'news:+seattle+dead+shooting', 'count': '46900'},\n",
       " {'year': 2014, 'term': 'news:+seattle+dead+shooting', 'count': '34900'}]"
      ]
     },
     "execution_count": 43,
     "metadata": {},
     "output_type": "execute_result"
    }
   ],
   "source": [
    "result_scrapping"
   ]
  },
  {
   "cell_type": "code",
   "execution_count": 44,
   "metadata": {},
   "outputs": [],
   "source": [
    "with open('my_data.pkl', 'wb') as picklefile:\n",
    "    pickle.dump(result_scrapping, picklefile)"
   ]
  },
  {
   "cell_type": "code",
   "execution_count": 45,
   "metadata": {},
   "outputs": [
    {
     "data": {
      "text/plain": [
       "[{'year': 2018, 'term': 'news:+seattle+shooting', 'count': '189000'},\n",
       " {'year': 2017, 'term': 'news:+seattle+shooting', 'count': '179000'},\n",
       " {'year': 2016, 'term': 'news:+seattle+shooting', 'count': '78400'},\n",
       " {'year': 2015, 'term': 'news:+seattle+shooting', 'count': '76400'},\n",
       " {'year': 2014, 'term': 'news:+seattle+shooting', 'count': '51200'},\n",
       " {'year': 2018, 'term': 'news:+seattle+murder', 'count': '115000'},\n",
       " {'year': 2017, 'term': 'news:+seattle+murder', 'count': '250000'},\n",
       " {'year': 2016, 'term': 'news:+seattle+murder', 'count': '137000'},\n",
       " {'year': 2015, 'term': 'news:+seattle+murder', 'count': '110000'},\n",
       " {'year': 2014, 'term': 'news:+seattle+murder', 'count': '82600'},\n",
       " {'year': 2018, 'term': 'news:+seattle+dead+shooting', 'count': '57100'},\n",
       " {'year': 2017, 'term': 'news:+seattle+dead+shooting', 'count': '60700'},\n",
       " {'year': 2016, 'term': 'news:+seattle+dead+shooting', 'count': '47800'},\n",
       " {'year': 2015, 'term': 'news:+seattle+dead+shooting', 'count': '46900'},\n",
       " {'year': 2014, 'term': 'news:+seattle+dead+shooting', 'count': '34900'}]"
      ]
     },
     "execution_count": 45,
     "metadata": {},
     "output_type": "execute_result"
    }
   ],
   "source": [
    "with open(\"my_data.pkl\", 'rb') as picklefile: \n",
    "    my_old_data = pickle.load(picklefile)\n",
    "my_old_data"
   ]
  },
  {
   "cell_type": "code",
   "execution_count": null,
   "metadata": {},
   "outputs": [],
   "source": []
  }
 ],
 "metadata": {
  "kernelspec": {
   "display_name": "Python 3",
   "language": "python",
   "name": "python3"
  },
  "language_info": {
   "codemirror_mode": {
    "name": "ipython",
    "version": 3
   },
   "file_extension": ".py",
   "mimetype": "text/x-python",
   "name": "python",
   "nbconvert_exporter": "python",
   "pygments_lexer": "ipython3",
   "version": "3.6.1"
  }
 },
 "nbformat": 4,
 "nbformat_minor": 2
}
